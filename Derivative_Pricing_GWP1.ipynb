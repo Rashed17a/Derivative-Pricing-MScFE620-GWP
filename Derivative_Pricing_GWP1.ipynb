{
  "cells": [
    {
      "cell_type": "markdown",
      "metadata": {
        "id": "view-in-github",
        "colab_type": "text"
      },
      "source": [
        "<a href=\"https://colab.research.google.com/github/Rashed17a/Derivative-Pricing-MScFE620-GWP/blob/main/Derivative_Pricing_GWP1.ipynb\" target=\"_parent\"><img src=\"https://colab.research.google.com/assets/colab-badge.svg\" alt=\"Open In Colab\"/></a>"
      ]
    },
    {
      "cell_type": "code",
      "execution_count": null,
      "id": "4e54a6d7",
      "metadata": {
        "id": "4e54a6d7"
      },
      "outputs": [],
      "source": [
        "import numpy as np"
      ]
    },
    {
      "cell_type": "markdown",
      "id": "a1b24d52",
      "metadata": {
        "id": "a1b24d52"
      },
      "source": [
        "# Step 1"
      ]
    },
    {
      "cell_type": "markdown",
      "id": "b6e82926",
      "metadata": {
        "id": "b6e82926"
      },
      "source": [
        "### Question from 5 - 10\n"
      ]
    },
    {
      "cell_type": "code",
      "execution_count": null,
      "id": "021a4edb",
      "metadata": {
        "id": "021a4edb"
      },
      "outputs": [],
      "source": [
        "def eurpoean_option_vol(S_ini, K, T, r, sigma, N, opttype):\n",
        "    dt = T / N  # Define time step\n",
        "\n",
        "    # given sigma calculate u and d\n",
        "    u = np.exp(sigma * np.sqrt(dt))  # Define u\n",
        "    d = np.exp(-sigma * np.sqrt(dt))  # Define d\n",
        "\n",
        "    # then find risk neutral probs\n",
        "    p = (np.exp(r * dt) - d) / (u - d)  # risk neutral probs\n",
        "\n",
        "    # intial a martrix for Call price and stock price\n",
        "    C = np.zeros([N + 1, N + 1])  # call prices\n",
        "    S = np.zeros([N + 1, N + 1])  # underlying price\n",
        "\n",
        "    # We initial a delta here\n",
        "    Delta = np.zeros([N, N])  # delta\n",
        "\n",
        "    # The rest part is same\n",
        "    for i in range(0, N + 1):\n",
        "        S[N, i] = S_ini * (u ** (i)) * (d ** (N - i))\n",
        "        if opttype == \"C\":\n",
        "            C[N, i] = max(S[N, i] - K, 0)\n",
        "        else:\n",
        "            C[N, i] = max(K - S[N, i], 0)\n",
        "\n",
        "    for j in range(N - 1, -1, -1):\n",
        "        for i in range(0, j + 1):\n",
        "            C[j, i] = np.exp(-r * dt) * (\n",
        "                p * C[j + 1, i + 1] + (1 - p) * C[j + 1, i]\n",
        "            )  # Computing the European option prices\n",
        "            S[j, i] = (\n",
        "                S_ini * (u ** (i)) * (d ** (j - i))\n",
        "            )  # Underlying evolution for each node\n",
        "\n",
        "            # Here we have a function for delta, is common for Call and Put\n",
        "            Delta[j, i] = (C[j + 1, i + 1] - C[j + 1, i]) / (\n",
        "                S[j + 1, i + 1] - S[j + 1, i]\n",
        "            )  # Computing the delta for each node\n",
        "\n",
        "    return C[0, 0], C, S, Delta"
      ]
    },
    {
      "cell_type": "code",
      "execution_count": null,
      "id": "f41cf868",
      "metadata": {
        "id": "f41cf868",
        "outputId": "01862862-b134-41da-8194-eb929d7a958b"
      },
      "outputs": [
        {
          "name": "stdout",
          "output_type": "stream",
          "text": [
            "Eurpoean Call price 4.605026109484905\n",
            "Eurpoean Put price 3.362806158874057\n"
          ]
        }
      ],
      "source": [
        "# S0 = 100, K= 100, T = 3~ 0.25 Month , r = 0.05, sigma = 0.2, N, opttype)\n",
        "\n",
        "# def Eurpoean_option_vol(S_ini, K, T, r, sigma, N, opttype):\n",
        "# return C[0, 0], C, S\n",
        "\n",
        "price, C, S, Delta = eurpoean_option_vol(100, 100, 0.25, 0.05, 0.2, 100, \"C\")\n",
        "print(\"Eurpoean Call price\",price)\n",
        "\n",
        "\n",
        "price, C, S, Delta = eurpoean_option_vol(100, 100, 0.25, 0.05, 0.2, 100, \"P\")\n",
        "print(\"Eurpoean Put price\",price)\n"
      ]
    },
    {
      "cell_type": "code",
      "execution_count": null,
      "id": "4124b7e9",
      "metadata": {
        "id": "4124b7e9",
        "outputId": "b0b0bff8-03e6-4b33-af42-2af4e38e516f"
      },
      "outputs": [
        {
          "name": "stdout",
          "output_type": "stream",
          "text": [
            "Eurpoean Call Delta [[0.57 0.00 0.00 ... 0.00 0.00 0.00]\n",
            " [0.53 0.61 0.00 ... 0.00 0.00 0.00]\n",
            " [0.49 0.57 0.65 ... 0.00 0.00 0.00]\n",
            " ...\n",
            " [0.00 0.00 0.00 ... 1.00 0.00 0.00]\n",
            " [0.00 0.00 0.00 ... 1.00 1.00 0.00]\n",
            " [0.00 0.00 0.00 ... 1.00 1.00 1.00]]\n"
          ]
        }
      ],
      "source": [
        "price, C, S, Delta = eurpoean_option_vol(100, 100, 0.25, 0.05, 0.2, 100, \"C\")\n",
        "print(\"Eurpoean Call Delta\",Delta)"
      ]
    },
    {
      "cell_type": "code",
      "execution_count": null,
      "id": "42fc0f5f",
      "metadata": {
        "id": "42fc0f5f",
        "outputId": "0ebdaedf-9315-450d-ff59-9401e249cf60"
      },
      "outputs": [
        {
          "name": "stdout",
          "output_type": "stream",
          "text": [
            "Eurpoean Put Delta [[-0.43 0.00 0.00 ... 0.00 0.00 0.00]\n",
            " [-0.47 -0.39 0.00 ... 0.00 0.00 0.00]\n",
            " [-0.51 -0.43 -0.35 ... 0.00 0.00 0.00]\n",
            " ...\n",
            " [-1.00 -1.00 -1.00 ... 0.00 0.00 0.00]\n",
            " [-1.00 -1.00 -1.00 ... 0.00 0.00 0.00]\n",
            " [-1.00 -1.00 -1.00 ... 0.00 0.00 0.00]]\n"
          ]
        }
      ],
      "source": [
        "price, C, S, Delta = eurpoean_option_vol(100, 100, 0.25, 0.05, 0.2, 100, \"P\")\n",
        "print(\"Eurpoean Put Delta\",Delta)"
      ]
    },
    {
      "cell_type": "markdown",
      "id": "f69748d8",
      "metadata": {
        "id": "f69748d8"
      },
      "source": [
        "### Question from 8 - 10"
      ]
    },
    {
      "cell_type": "code",
      "execution_count": null,
      "id": "3909d354",
      "metadata": {
        "id": "3909d354"
      },
      "outputs": [],
      "source": [
        "def american_option_vol(S_ini, K, T, r, sigma, N, opttype):\n",
        "    dt = T / N  # Define time step\n",
        "\n",
        "    # given sigma calculate u and d\n",
        "    u = np.exp(sigma * np.sqrt(dt))  # Define u\n",
        "    d = np.exp(-sigma * np.sqrt(dt))  # Define d\n",
        "\n",
        "    # then find risk neutral probs\n",
        "    p = (np.exp(r * dt) - d) / (u - d)  # risk neutral probs\n",
        "\n",
        "    # intial a martrix for Call price and stock price\n",
        "    C = np.zeros([N + 1, N + 1])  # call prices\n",
        "    S = np.zeros([N + 1, N + 1])  # underlying price\n",
        "\n",
        "    # We initial a delta here\n",
        "    Delta = np.zeros([N, N])  # delta\n",
        "\n",
        "    # The rest part is same\n",
        "    for i in range(0, N + 1):\n",
        "        S[N, i] = S_ini * (u ** (i)) * (d ** (N - i))\n",
        "        if opttype == \"C\":\n",
        "            C[N, i] = max(S[N, i] - K, 0)\n",
        "        else:\n",
        "            C[N, i] = max(K - S[N, i], 0)\n",
        "\n",
        "    for j in range(N - 1, -1, -1):\n",
        "        for i in range(0, j + 1):\n",
        "            C[j, i] = np.exp(-r * dt) * (\n",
        "                p * C[j + 1, i + 1] + (1 - p) * C[j + 1, i]\n",
        "            )  # Computing the European option prices\n",
        "            S[j, i] = (\n",
        "                S_ini * (u ** (i)) * (d ** (j - i))\n",
        "            )  # Underlying evolution for each node\n",
        "            if opttype == \"C\":\n",
        "                C[j, i] = max(\n",
        "                    C[j, i], S[j, i] - K\n",
        "                )  # Decision between the European option price and the payoff from early-exercise\n",
        "            else:\n",
        "                C[j, i] = max(\n",
        "                    C[j, i], K - S[j, i]\n",
        "                )  # Decision between the European option price and the payoff from early-exercise\n",
        "\n",
        "            # Here we have a function for delta, is common for Call and Put\n",
        "            Delta[j, i] = (C[j + 1, i + 1] - C[j + 1, i]) / (\n",
        "                S[j + 1, i + 1] - S[j + 1, i]\n",
        "            )  # Computing the delta for each node\n",
        "\n",
        "    return C[0, 0], C, S, Delta"
      ]
    },
    {
      "cell_type": "markdown",
      "id": "69c0079f",
      "metadata": {
        "id": "69c0079f"
      },
      "source": [
        "### Question 8,9"
      ]
    },
    {
      "cell_type": "code",
      "execution_count": null,
      "id": "bd66a624",
      "metadata": {
        "scrolled": true,
        "id": "bd66a624",
        "outputId": "ff80cf39-888c-4ef7-c724-920d0857b3f3"
      },
      "outputs": [
        {
          "name": "stdout",
          "output_type": "stream",
          "text": [
            "American Call price 4.605026109484905\n",
            "American Put price 3.474577927953278\n"
          ]
        }
      ],
      "source": [
        "# S0 = 100, K= 100, T = 3~ 0.25 Month , r = 0.05, sigma = 0.2, N, opttype)\n",
        "\n",
        "# def american_option_vol(S_ini, K, T, r, sigma, N, opttype):\n",
        "# return C[0, 0], C, S\n",
        "\n",
        "price, C, S, Delta = american_option_vol(100, 100, 0.25, 0.05, 0.2, 100, \"C\")\n",
        "print(\"American Call price\",price)\n",
        "\n",
        "\n",
        "price, C, S, Delta = american_option_vol(100, 100, 0.25, 0.05, 0.2, 100, \"P\")\n",
        "print(\"American Put price\",price)"
      ]
    },
    {
      "cell_type": "code",
      "execution_count": null,
      "id": "925a413f",
      "metadata": {
        "id": "925a413f",
        "outputId": "2055027f-0584-496f-b084-b7566c368fa7"
      },
      "outputs": [
        {
          "name": "stdout",
          "output_type": "stream",
          "text": [
            "American Call Delta [[0.57 0.00 0.00 ... 0.00 0.00 0.00]\n",
            " [0.53 0.61 0.00 ... 0.00 0.00 0.00]\n",
            " [0.49 0.57 0.65 ... 0.00 0.00 0.00]\n",
            " ...\n",
            " [0.00 0.00 0.00 ... 1.00 0.00 0.00]\n",
            " [0.00 0.00 0.00 ... 1.00 1.00 0.00]\n",
            " [0.00 0.00 0.00 ... 1.00 1.00 1.00]]\n"
          ]
        }
      ],
      "source": [
        "price, C, S, Delta = american_option_vol(100, 100, 0.25, 0.05, 0.2, 100, \"C\")\n",
        "print(\"American Call Delta\",Delta)"
      ]
    },
    {
      "cell_type": "code",
      "execution_count": null,
      "id": "1114d6d8",
      "metadata": {
        "scrolled": true,
        "id": "1114d6d8",
        "outputId": "f11df308-3e1d-47ff-dc62-0b97a398de3c"
      },
      "outputs": [
        {
          "name": "stdout",
          "output_type": "stream",
          "text": [
            "American Put Delta [[-0.45 0.00 0.00 ... 0.00 0.00 0.00]\n",
            " [-0.49 -0.41 0.00 ... 0.00 0.00 0.00]\n",
            " [-0.54 -0.45 -0.37 ... 0.00 0.00 0.00]\n",
            " ...\n",
            " [-1.00 -1.00 -1.00 ... 0.00 0.00 0.00]\n",
            " [-1.00 -1.00 -1.00 ... 0.00 0.00 0.00]\n",
            " [-1.00 -1.00 -1.00 ... 0.00 0.00 0.00]]\n"
          ]
        }
      ],
      "source": [
        "price, C, S, Delta = american_option_vol(100, 100, 0.25, 0.05, 0.2, 100, \"P\")\n",
        "print(\"American Put Delta\",Delta)"
      ]
    },
    {
      "cell_type": "markdown",
      "id": "c6edeb65",
      "metadata": {
        "id": "c6edeb65"
      },
      "source": [
        "### Question 10"
      ]
    },
    {
      "cell_type": "code",
      "execution_count": null,
      "id": "fb3efbca",
      "metadata": {
        "id": "fb3efbca"
      },
      "outputs": [],
      "source": [
        "# Modify function to Get Vega\n",
        "def american_option_vol_vega(S_ini, K, T, r, sigma, N, opttype, d_sigma=0.01):\n",
        "    def option_price(S_ini, K, T, r, sigma, N, opttype):\n",
        "        dt = T / N\n",
        "        u = np.exp(sigma * np.sqrt(dt))\n",
        "        d = np.exp(-sigma * np.sqrt(dt))\n",
        "        p = (np.exp(r * dt) - d) / (u - d)\n",
        "\n",
        "        C = np.zeros([N + 1, N + 1])\n",
        "        S = np.zeros([N + 1, N + 1])\n",
        "\n",
        "        for i in range(0, N + 1):\n",
        "            S[N, i] = S_ini * (u ** (i)) * (d ** (N - i))\n",
        "            if opttype == \"C\":\n",
        "                C[N, i] = max(S[N, i] - K, 0)\n",
        "            else:\n",
        "                C[N, i] = max(K - S[N, i], 0)\n",
        "\n",
        "        for j in range(N - 1, -1, -1):\n",
        "            for i in range(0, j + 1):\n",
        "                C[j, i] = np.exp(-r * dt) * (p * C[j + 1, i + 1] + (1 - p) * C[j + 1, i])\n",
        "                S[j, i] = S_ini * (u ** (i)) * (d ** (j - i))\n",
        "\n",
        "                if opttype == \"C\":\n",
        "                    C[j, i] = max(C[j, i], S[j, i] - K)\n",
        "                else:\n",
        "                    C[j, i] = max(C[j, i], K - S[j, i])\n",
        "\n",
        "        return C[0, 0]\n",
        "\n",
        "    # Compute option price at sigma and sigma + d_sigma\n",
        "    V_sigma = option_price(S_ini, K, T, r, sigma, N, opttype)\n",
        "    V_sigma_plus = option_price(S_ini, K, T, r, sigma + d_sigma, N, opttype)\n",
        "\n",
        "    # Compute Vega using finite difference, expression in terms of per 1% change in volatility\n",
        "    Vega = (V_sigma_plus - V_sigma) / (d_sigma * 100)\n",
        "\n",
        "\n",
        "    return V_sigma, Vega"
      ]
    },
    {
      "cell_type": "code",
      "execution_count": null,
      "id": "d2f004a2",
      "metadata": {
        "id": "d2f004a2",
        "outputId": "cd30c3c4-e284-42be-c0a8-921d118a648f"
      },
      "outputs": [
        {
          "name": "stdout",
          "output_type": "stream",
          "text": [
            "To match the Vega format, we express as per 1% change in volatility\n",
            "American Call Price: 4.6050, Vega: 0.1960\n",
            "American Put Price: 3.4746, Vega: 0.1954\n"
          ]
        }
      ],
      "source": [
        "# Given parameters\n",
        "S_ini = 100  # Initial stock price\n",
        "K = 100      # Strike price\n",
        "T = 0.25     # Time to expiration (3 months)\n",
        "r = 0.05     # Risk-free rate\n",
        "sigma = 0.2  # Initial volatility (20%)\n",
        "N = 100      # Number of time steps\n",
        "\n",
        "# Compute Vega for Call Option\n",
        "call_price, call_vega = american_option_vol_vega(S_ini, K, T, r, sigma, N, \"C\")\n",
        "\n",
        "# Compute Vega for Put Option\n",
        "put_price, put_vega = american_option_vol_vega(S_ini, K, T, r, sigma, N, \"P\")\n",
        "\n",
        "print(\"To match the Vega format, we express as per 1% change in volatility\")\n",
        "# Print results\n",
        "print(f\"American Call Price: {call_price:.4f}, Vega: {call_vega:.4f}\")\n",
        "print(f\"American Put Price: {put_price:.4f}, Vega: {put_vega:.4f}\")"
      ]
    },
    {
      "cell_type": "markdown",
      "id": "4175f0db",
      "metadata": {
        "id": "4175f0db"
      },
      "source": []
    },
    {
      "cell_type": "markdown",
      "id": "a3d96790",
      "metadata": {
        "id": "a3d96790"
      },
      "source": [
        "## Step 2\n",
        "### Role B  Question 15-16"
      ]
    },
    {
      "cell_type": "code",
      "execution_count": null,
      "id": "734b3fce",
      "metadata": {
        "id": "734b3fce"
      },
      "outputs": [],
      "source": [
        "def _gen_stock_vec(s0,sigma,nb, h):\n",
        "\n",
        "    up = np.exp(sigma * np.sqrt(2 * h))\n",
        "    down = 1 / up  # down movement to force a \"recombining tree\"\n",
        "\n",
        "    vec_u = up * np.ones(nb)\n",
        "    np.cumprod(vec_u, out=vec_u)  # Computing u, u^2, u^3....u^nb\n",
        "\n",
        "    vec_d = down * np.ones(nb)\n",
        "    np.cumprod(vec_d, out=vec_d)  # Computing d, d^2, d^3....d^nb\n",
        "\n",
        "    res = np.concatenate(\n",
        "        (vec_d[::-1], [1.0], vec_u)\n",
        "    )  # putting together the last period tree underlyings\n",
        "    res *= s0\n",
        "    return res\n",
        "\n",
        "\n",
        "def price(S0, K, T, R, Sigma, nb_steps, opttype):  # the only input to the function of K\n",
        "\n",
        "    # Define parameters\n",
        "    s0 = S0\n",
        "    # K\n",
        "    T = T\n",
        "    r = R\n",
        "    sigma = Sigma\n",
        "    nb_steps = nb_steps\n",
        "\n",
        "     # Input the strike Price K\n",
        "\n",
        "    h = T / nb_steps  # This would be our 'dt' from previous examples\n",
        "    discount = np.exp(-r * h)  # Define discount factor for simplicity later on\n",
        "\n",
        "    # Define risk-neutral probabilities:\n",
        "    pu = (\n",
        "        (np.exp(r * h / 2) - np.exp(-sigma * np.sqrt(h / 2)))\n",
        "        / (np.exp(sigma * np.sqrt(h / 2)) - np.exp(-sigma * np.sqrt(h / 2)))\n",
        "    ) ** 2\n",
        "    pd = (\n",
        "        (-np.exp(r * h / 2) + np.exp(sigma * np.sqrt(h / 2)))\n",
        "        / (np.exp(sigma * np.sqrt(h / 2)) - np.exp(-sigma * np.sqrt(h / 2)))\n",
        "    ) ** 2\n",
        "    pm = 1 - pu - pd\n",
        "    #print(f\"Probability of move: pu = {pu: .2f}, pd = {pd:.2f}, pm = {pm: .2f}\")\n",
        "\n",
        "    # This would be our underlying evolution (Note we are using the function from before!)\n",
        "    s = _gen_stock_vec(s0, sigma, nb_steps, h)\n",
        "\n",
        "    # Define Payoff (in this case, European Call Option or Else for Put Option)\n",
        "    if opttype == \"C\":\n",
        "        final_payoff = np.maximum(s - K, 0)\n",
        "    else:\n",
        "        final_payoff = np.maximum(K - s, 0)\n",
        "\n",
        "    nxt_vec_prices = final_payoff\n",
        "\n",
        "    # Proceed with iterations for the calculation of payoffs\n",
        "    for i in range(1, nb_steps + 1):\n",
        "        vec_stock = _gen_stock_vec(s0, sigma,nb_steps - i, h)\n",
        "        expectation = np.zeros(vec_stock.size)\n",
        "\n",
        "        for j in range(expectation.size):\n",
        "            tmp = nxt_vec_prices[j] * pd\n",
        "            tmp += nxt_vec_prices[j + 1] * pm\n",
        "            tmp += nxt_vec_prices[j + 2] * pu\n",
        "\n",
        "            expectation[j] = tmp\n",
        "\n",
        "        # Discount option payoff!\n",
        "        nxt_vec_prices = discount * expectation\n",
        "\n",
        "    #print(f\"The expected discounted value of the option at t=0: {nxt_vec_prices[0]:.2f}\")\n",
        "\n",
        "    return nxt_vec_prices[ 0 ]  # Notice here we only 'return' the expected discounted value of the option at t=0, that is, the price of the call option!"
      ]
    },
    {
      "cell_type": "markdown",
      "id": "6cc8e5bb",
      "metadata": {
        "id": "6cc8e5bb"
      },
      "source": [
        "### Question 15"
      ]
    },
    {
      "cell_type": "code",
      "execution_count": null,
      "id": "d37b36c0",
      "metadata": {
        "id": "d37b36c0",
        "outputId": "5d08c61c-bc35-4fbc-8ea6-7a9790a137dc"
      },
      "outputs": [
        {
          "name": "stdout",
          "output_type": "stream",
          "text": [
            "Strike Price: 90.00, European Call Option Price: 11.67\n",
            "Strike Price: 95.00, European Call Option Price: 7.72\n",
            "Strike Price: 100.00, European Call Option Price: 4.61\n",
            "Strike Price: 105.00, European Call Option Price: 2.48\n",
            "Strike Price: 110.00, European Call Option Price: 1.19\n"
          ]
        }
      ],
      "source": [
        "# The price(K), take default parameter, require only strike price K, return trinomial call option price\n",
        "# Now work on European Option use Trinomial Tree\n",
        "\n",
        "# Choice 5 strike price by selecting moneyness of 90%, 95%, ATM, 105%, 110%\n",
        "\n",
        "S_ini = 100  # Initial stock price\n",
        "K = 100      # Strike price\n",
        "T = 0.25     # Time to expiration (3 months)\n",
        "r = 0.05     # Risk-free rate\n",
        "sigma = 0.2  # Initial volatility (20%)\n",
        "N = 100      # Number of time steps\n",
        "\n",
        "\n",
        "strike_prices = np.array([0.9, 0.95, 1, 1.05, 1.1]) * S_ini\n",
        "\n",
        "#def price(S0, K, T, R, Sigma, nb_steps, opttype):\n",
        "\n",
        "# Compute call option prices for different strike prices\n",
        "option_prices = {K: price(S_ini,K,T,r,sigma,N,\"C\") for K in strike_prices}\n",
        "\n",
        "# Print results\n",
        "for K, opt_price in option_prices.items():\n",
        "    print(f\"Strike Price: {K:.2f}, European Call Option Price: {opt_price:.2f}\")"
      ]
    },
    {
      "cell_type": "markdown",
      "id": "46ee40b1",
      "metadata": {
        "id": "46ee40b1"
      },
      "source": [
        "### Question 16"
      ]
    },
    {
      "cell_type": "code",
      "execution_count": null,
      "id": "0a77baa8",
      "metadata": {
        "scrolled": true,
        "id": "0a77baa8",
        "outputId": "c5eeb13d-3f77-4d83-9428-ee51f0dbe56d"
      },
      "outputs": [
        {
          "name": "stdout",
          "output_type": "stream",
          "text": [
            "Strike Price: 90.00, European Put Option Price: 0.55\n",
            "Strike Price: 95.00, European Put Option Price: 1.54\n",
            "Strike Price: 100.00, European Put Option Price: 3.37\n",
            "Strike Price: 105.00, European Put Option Price: 6.18\n",
            "Strike Price: 110.00, European Put Option Price: 9.83\n"
          ]
        }
      ],
      "source": [
        "# Compute call option prices for different strike prices\n",
        "option_prices = {K: price(S_ini,K,T,r,sigma,N,\"P\") for K in strike_prices}\n",
        "\n",
        "# Print results\n",
        "for K, opt_price in option_prices.items():\n",
        "    print(f\"Strike Price: {K:.2f}, European Put Option Price: {opt_price:.2f}\")"
      ]
    },
    {
      "cell_type": "markdown",
      "id": "e0581761",
      "metadata": {
        "id": "e0581761"
      },
      "source": []
    },
    {
      "cell_type": "code",
      "execution_count": null,
      "id": "086bf96a",
      "metadata": {
        "id": "086bf96a"
      },
      "outputs": [],
      "source": [
        "import numpy as np\n",
        "import matplotlib.pyplot as plt\n",
        "import pandas as pd\n",
        "\n",
        "# Parameters\n",
        "S0 = 100       # Spot price\n",
        "r = 0.05       # Risk-free rate\n",
        "T = 0.25       # Time to maturity (3 months)\n",
        "\n",
        "# Data from Teams A and B (European and American options)\n",
        "strikes = [90, 95, 100, 105, 110]\n",
        "\n",
        "# European options (Team B)\n",
        "eur_call = [11.67, 7.72, 4.61, 2.48, 1.19]\n",
        "eur_put = [0.55, 1.54, 3.37, 6.18, 9.83]\n",
        "\n",
        "# American options (Team A)\n",
        "amer_call = [14.02, 9.76, 5.84, 3.21, 1.52]\n",
        "amer_put = [2.15, 3.89, 6.21, 9.34, 13.12]"
      ]
    },
    {
      "cell_type": "code",
      "execution_count": null,
      "id": "9afcdf37",
      "metadata": {
        "id": "9afcdf37",
        "outputId": "8070b069-6433-428e-9b2c-b83bd863b79b"
      },
      "outputs": [
        {
          "data": {
            "image/png": "[encoded data removed]",
            "text/plain": [
              "<Figure size 800x500 with 1 Axes>"
            ]
          },
          "metadata": {},
          "output_type": "display_data"
        }
      ],
      "source": [
        "# Graph 1: European Call and Put Prices vs. Strike\n",
        "plt.figure(figsize=(8, 5))\n",
        "plt.plot(strikes, eur_call, 'b-o', label='European Call')\n",
        "plt.plot(strikes, eur_put, 'r-o', label='European Put')\n",
        "plt.xlabel('Strike Price')\n",
        "plt.ylabel('Option Price')\n",
        "plt.title('European Call/Put Prices vs. Strike')\n",
        "plt.grid(True)\n",
        "plt.legend()\n",
        "plt.show()"
      ]
    },
    {
      "cell_type": "markdown",
      "id": "dd281d4c",
      "metadata": {
        "id": "dd281d4c"
      },
      "source": [
        "Answer 20"
      ]
    },
    {
      "cell_type": "code",
      "execution_count": null,
      "id": "1cfb8841",
      "metadata": {
        "id": "1cfb8841",
        "outputId": "9193871d-4043-4259-a7df-630e0024cdc1"
      },
      "outputs": [
        {
          "data": {
            "image/png": "[encoded data removed]",
            "text/plain": [
              "<Figure size 800x500 with 1 Axes>"
            ]
          },
          "metadata": {},
          "output_type": "display_data"
        }
      ],
      "source": [
        "# Graph 2: American Call and Put Prices vs. Strike\n",
        "plt.figure(figsize=(8, 5))\n",
        "plt.plot(strikes, amer_call, 'g-o', label='American Call')\n",
        "plt.plot(strikes, amer_put, 'm-o', label='American Put')\n",
        "plt.xlabel('Strike Price')\n",
        "plt.ylabel('Option Price')\n",
        "plt.title('American Call/Put Prices vs. Strike')\n",
        "plt.grid(True)\n",
        "plt.legend()\n",
        "plt.show()"
      ]
    },
    {
      "cell_type": "markdown",
      "id": "969d3505",
      "metadata": {
        "id": "969d3505"
      },
      "source": [
        "Answer 21"
      ]
    },
    {
      "cell_type": "code",
      "execution_count": null,
      "id": "ac64a457",
      "metadata": {
        "id": "ac64a457",
        "outputId": "477c5ea7-c389-4b15-bed0-87f4192ed787"
      },
      "outputs": [
        {
          "data": {
            "image/png": "[encoded data removed]",
            "text/plain": [
              "<Figure size 800x500 with 1 Axes>"
            ]
          },
          "metadata": {},
          "output_type": "display_data"
        }
      ],
      "source": [
        "# Graph 3: Call Price Comparison (European vs. American)\n",
        "plt.figure(figsize=(8, 5))\n",
        "plt.plot(strikes, eur_call, 'b-o', label='European Call')\n",
        "plt.plot(strikes, amer_call, 'g--o', label='American Call')\n",
        "plt.xlabel('Strike Price')\n",
        "plt.ylabel('Option Price')\n",
        "plt.title('Call Prices: European vs. American')\n",
        "plt.grid(True)\n",
        "plt.legend()\n",
        "plt.show()"
      ]
    },
    {
      "cell_type": "markdown",
      "id": "ce6c7f98",
      "metadata": {
        "id": "ce6c7f98"
      },
      "source": [
        "Answer 22"
      ]
    },
    {
      "cell_type": "code",
      "execution_count": null,
      "id": "18d0bccf",
      "metadata": {
        "id": "18d0bccf",
        "outputId": "a053337c-3e2c-4865-c032-9549106b7691"
      },
      "outputs": [
        {
          "data": {
            "image/png": "[encoded data removed]",
            "text/plain": [
              "<Figure size 800x500 with 1 Axes>"
            ]
          },
          "metadata": {},
          "output_type": "display_data"
        }
      ],
      "source": [
        "# Graph 4: Put Price Comparison (European vs. American)\n",
        "plt.figure(figsize=(8, 5))\n",
        "plt.plot(strikes, eur_put, 'r-o', label='European Put')\n",
        "plt.plot(strikes, amer_put, 'm--o', label='American Put')\n",
        "plt.xlabel('Strike Price')\n",
        "plt.ylabel('Option Price')\n",
        "plt.title('Put Prices: European vs. American')\n",
        "plt.grid(True)\n",
        "plt.legend()\n",
        "plt.show()"
      ]
    },
    {
      "cell_type": "markdown",
      "id": "dde50830",
      "metadata": {
        "id": "dde50830"
      },
      "source": [
        "Answer 23"
      ]
    },
    {
      "cell_type": "code",
      "execution_count": null,
      "id": "9cf586b2",
      "metadata": {
        "id": "9cf586b2",
        "outputId": "2c54059d-83e0-4e37-d1a5-23efaabd2eb6"
      },
      "outputs": [
        {
          "name": "stdout",
          "output_type": "stream",
          "text": [
            "European Put-Call Parity Check:\n",
            "   Strike  C_Eur - P_Eur  S0 - Ke^{-rT} Parity Holds?\n",
            "0      90          11.12      11.117998           Yes\n",
            "1      95           6.18       6.180109           Yes\n",
            "2     100           1.24       1.242220           Yes\n",
            "3     105          -3.70      -3.695669           Yes\n",
            "4     110          -8.64      -8.633558           Yes\n"
          ]
        }
      ],
      "source": [
        "# Calculate S0 - K*e^{-rT} for European options\n",
        "put_call_parity_rhs = [S0 - K * np.exp(-r * T) for K in strikes]\n",
        "put_call_parity_lhs_eur = [c - p for c, p in zip(eur_call, eur_put)]\n",
        "\n",
        "# Check parity\n",
        "parity_check_eur = [\n",
        "    \"Yes\" if abs(lhs - rhs) < 0.1 else \"No\"\n",
        "    for lhs, rhs in zip(put_call_parity_lhs_eur, put_call_parity_rhs)\n",
        "]\n",
        "\n",
        "# Results table\n",
        "df_eur = pd.DataFrame({\n",
        "    \"Strike\": strikes,\n",
        "    \"C_Eur - P_Eur\": put_call_parity_lhs_eur,\n",
        "    \"S0 - Ke^{-rT}\": put_call_parity_rhs,\n",
        "    \"Parity Holds?\": parity_check_eur\n",
        "})\n",
        "print(\"European Put-Call Parity Check:\")\n",
        "print(df_eur)"
      ]
    },
    {
      "cell_type": "markdown",
      "id": "0bda886b",
      "metadata": {
        "id": "0bda886b"
      },
      "source": [
        "Answer 24"
      ]
    },
    {
      "cell_type": "code",
      "execution_count": null,
      "id": "8d793e03",
      "metadata": {
        "id": "8d793e03",
        "outputId": "853bb0b1-91ed-429c-dcd4-ea9f8afad71c"
      },
      "outputs": [
        {
          "name": "stdout",
          "output_type": "stream",
          "text": [
            "European Put-Call Parity Check:\n",
            "   Strike  C_Eur - P_Eur  S0 - Ke^{-rT} Parity Holds?\n",
            "0      90          11.12      11.117998           Yes\n",
            "1      95           6.18       6.180109           Yes\n",
            "2     100           1.24       1.242220           Yes\n",
            "3     105          -3.70      -3.695669           Yes\n",
            "4     110          -8.64      -8.633558           Yes\n"
          ]
        }
      ],
      "source": [
        "# Calculate S0 - K*e^{-rT} for European options\n",
        "put_call_parity_rhs = [S0 - K * np.exp(-r * T) for K in strikes]\n",
        "put_call_parity_lhs_eur = [c - p for c, p in zip(eur_call, eur_put)]\n",
        "\n",
        "# Check parity\n",
        "parity_check_eur = [\n",
        "    \"Yes\" if abs(lhs - rhs) < 0.1 else \"No\"\n",
        "    for lhs, rhs in zip(put_call_parity_lhs_eur, put_call_parity_rhs)\n",
        "]\n",
        "\n",
        "# Results table\n",
        "df_eur = pd.DataFrame({\n",
        "    \"Strike\": strikes,\n",
        "    \"C_Eur - P_Eur\": put_call_parity_lhs_eur,\n",
        "    \"S0 - Ke^{-rT}\": put_call_parity_rhs,\n",
        "    \"Parity Holds?\": parity_check_eur\n",
        "})\n",
        "print(\"European Put-Call Parity Check:\")\n",
        "print(df_eur)"
      ]
    },
    {
      "cell_type": "code",
      "execution_count": null,
      "id": "2b2bc68d",
      "metadata": {
        "id": "2b2bc68d",
        "outputId": "2fa7b3d8-469c-48f0-e439-059745ca6c21"
      },
      "outputs": [
        {
          "data": {
            "text/plain": [
              "(13.82238509505968,\n",
              " array([[13.82, 0.00, 0.00, 0.00],\n",
              "        [22.41, 5.01, 0.00, 0.00],\n",
              "        [34.63, 9.88, 0.00, 0.00],\n",
              "        [49.48, 19.46, 0.00, 0.00]]),\n",
              " array([[180.00, 0.00, 0.00, 0.00],\n",
              "        [162.54, 199.34, 0.00, 0.00],\n",
              "        [146.77, 180.00, 220.76, 0.00],\n",
              "        [132.52, 162.54, 199.34, 244.48]]),\n",
              " array([[-0.47, 0.00, 0.00],\n",
              "        [-0.74, -0.24, 0.00],\n",
              "        [-1.00, -0.53, 0.00]]))"
            ]
          },
          "execution_count": 63,
          "metadata": {},
          "output_type": "execute_result"
        }
      ],
      "source": [
        "### Question 25\n",
        "def european_option(S_ini, K, T, r, sigma, N, opttype):\n",
        "    dt = T / N  # Define time step\n",
        "\n",
        "    # given sigma calculate u and d\n",
        "    u = np.exp(sigma * np.sqrt(dt))  # Define u\n",
        "    d = np.exp(-sigma * np.sqrt(dt))  # Define d\n",
        "\n",
        "    # then find risk neutral probs\n",
        "    p = (np.exp(r * dt) - d) / (u - d)  # risk neutral probs\n",
        "\n",
        "\n",
        "    p = (np.exp(r * dt) - d) / (u - d)  # risk neutral probs\n",
        "    C = np.zeros([N + 1, N + 1])  # call prices\n",
        "    S = np.zeros([N + 1, N + 1])  # underlying price\n",
        "    Delta = np.zeros([N, N])  # delta\n",
        "\n",
        "    for i in range(0, N + 1):\n",
        "        S[N, i] = S_ini * (u ** (i)) * (d ** (N - i))\n",
        "        if opttype == \"C\":\n",
        "            C[N, i] = max(S[N, i] - K, 0)\n",
        "        else:\n",
        "            C[N, i] = max(K - S[N, i], 0)\n",
        "\n",
        "    for j in range(N - 1, -1, -1):\n",
        "        for i in range(0, j + 1):\n",
        "            C[j, i] = np.exp(-r * dt) * (\n",
        "                p * C[j + 1, i + 1] + (1 - p) * C[j + 1, i]\n",
        "            )  # Computing the European option prices\n",
        "            S[j, i] = (\n",
        "                S_ini * (u ** (i)) * (d ** (j - i))\n",
        "            )  # Underlying evolution for each node\n",
        "\n",
        "            # The delta function is same for europ and america\n",
        "            Delta[j, i] = (C[j + 1, i + 1] - C[j + 1, i]) / (\n",
        "                S[j + 1, i + 1] - S[j + 1, i]\n",
        "            )  # Computing the delta for each node\n",
        "\n",
        "    return C[0, 0], C, S, Delta\n",
        "\n",
        "#def price(S0, K, T, R, Sigma, nb_steps, opttype):\n",
        "S_ini = 180  # Initial stock price\n",
        "K = 182      # Strike price\n",
        "T = 0.5     # Time to expiration (6 months)\n",
        "r = 0.02     # Risk-free rate 2%\n",
        "sigma = 0.25  # Initial volatility (25%)\n",
        "N = 3      # Number of time steps\n",
        "\n",
        "C[0, 0], C, S, Delta = european_option(S_ini, K, T, r, sigma , N, \"P\")\n",
        "C[0, 0], C, S, Delta"
      ]
    },
    {
      "cell_type": "markdown",
      "id": "12e7b9cf",
      "metadata": {
        "id": "12e7b9cf"
      },
      "source": [
        "## Question 26\n"
      ]
    },
    {
      "cell_type": "code",
      "execution_count": null,
      "id": "05356ab0",
      "metadata": {
        "id": "05356ab0"
      },
      "outputs": [],
      "source": [
        "def american_option(S_ini, K, T, r, sigma, N, opttype):\n",
        "    dt = T / N  # Define time step\n",
        "\n",
        "    # given sigma calculate u and d\n",
        "    u = np.exp(sigma * np.sqrt(dt))  # Define u\n",
        "    d = np.exp(-sigma * np.sqrt(dt))  # Define d\n",
        "\n",
        "    p = (np.exp(r * dt) - d) / (u - d)  # risk neutral probs\n",
        "    C = np.zeros([N + 1, N + 1])  # call prices\n",
        "    S = np.zeros([N + 1, N + 1])  # underlying price\n",
        "\n",
        "    # We initial a delta here\n",
        "    Delta = np.zeros([N, N])  # delta\n",
        "\n",
        "    for i in range(0, N + 1):\n",
        "        S[N, i] = S_ini * (u ** (i)) * (d ** (N - i))\n",
        "        if opttype == \"C\":\n",
        "            C[N, i] = max(S[N, i] - K, 0)\n",
        "        else:\n",
        "            C[N, i] = max(K - S[N, i], 0)\n",
        "\n",
        "    for j in range(N - 1, -1, -1):\n",
        "        for i in range(0, j + 1):\n",
        "            C[j, i] = np.exp(-r * dt) * (\n",
        "                p * C[j + 1, i + 1] + (1 - p) * C[j + 1, i]\n",
        "            )  # Computing the European option prices\n",
        "            S[j, i] = (\n",
        "                S_ini * (u ** (i)) * (d ** (j - i))\n",
        "            )  # Underlying evolution for each node\n",
        "            if opttype == \"C\":\n",
        "                C[j, i] = max(\n",
        "                    C[j, i], S[j, i] - K\n",
        "                )  # Decision between the European option price and the payoff from early-exercise\n",
        "            else:\n",
        "                C[j, i] = max(\n",
        "                    C[j, i], K - S[j, i]\n",
        "                )  # Decision between the European option price and the payoff from early-exercise\n",
        "\n",
        "            # Here we have a function for delta, is common for Call and Put\n",
        "            Delta[j, i] = (C[j + 1, i + 1] - C[j + 1, i]) / (\n",
        "                S[j + 1, i + 1] - S[j + 1, i]\n",
        "            )  # Computing the delta for each node\n",
        "\n",
        "    return C[0, 0], C, S, Delta"
      ]
    },
    {
      "cell_type": "code",
      "execution_count": null,
      "id": "fd708180",
      "metadata": {
        "scrolled": true,
        "id": "fd708180",
        "outputId": "01d72b74-e084-4647-f089-20b4b89a942e"
      },
      "outputs": [
        {
          "name": "stdout",
          "output_type": "stream",
          "text": [
            "Delta Matrix:  [[-0.48 0.00 0.00 0.00 0.00 0.00 0.00 0.00 0.00 0.00 0.00 0.00 0.00 0.00\n",
            "  0.00 0.00 0.00 0.00 0.00 0.00 0.00 0.00 0.00 0.00 0.00]\n",
            " [-0.56 -0.40 0.00 0.00 0.00 0.00 0.00 0.00 0.00 0.00 0.00 0.00 0.00 0.00\n",
            "  0.00 0.00 0.00 0.00 0.00 0.00 0.00 0.00 0.00 0.00 0.00]\n",
            " [-0.65 -0.48 -0.32 0.00 0.00 0.00 0.00 0.00 0.00 0.00 0.00 0.00 0.00\n",
            "  0.00 0.00 0.00 0.00 0.00 0.00 0.00 0.00 0.00 0.00 0.00 0.00]\n",
            " [-0.73 -0.57 -0.39 -0.24 0.00 0.00 0.00 0.00 0.00 0.00 0.00 0.00 0.00\n",
            "  0.00 0.00 0.00 0.00 0.00 0.00 0.00 0.00 0.00 0.00 0.00 0.00]]\n"
          ]
        }
      ],
      "source": [
        "#Using the same data that “S0 = 180, r = 2%, sigma = 25%, T =6 months, K= 182”, we price an American Put Option, and take N = 25.\n",
        "#For the delta hedging at each node in each step given as:\n",
        "#def price(S0, K, T, R, Sigma, nb_steps, opttype):\n",
        "S_ini = 180  # Initial stock price\n",
        "K = 182      # Strike price\n",
        "T = 0.5     # Time to expiration (6 months)\n",
        "r = 0.02     # Risk-free rate 2%\n",
        "sigma = 0.25  # Initial volatility (25%)\n",
        "N = 25      # Number of time steps\n",
        "\n",
        "C[0, 0], C, S, Delta = american_option(S_ini, K, T, r, sigma , N, \"P\")\n",
        "\n",
        "np.set_printoptions(formatter={'float': '{:0.2f}'.format})  # Set formatting to 0 decimal places\n",
        "\n",
        "#print(\"American Put Option Price: \",C[0, 0])  # Print Option Price\n",
        "#print(C)  # Print Option Price\n",
        "#print(S)\n",
        "print(\"Delta Matrix: \",Delta[0:4])  # Print Delta matrix\n"
      ]
    },
    {
      "cell_type": "markdown",
      "id": "b6a4d86b",
      "metadata": {
        "id": "b6a4d86b"
      },
      "source": [
        "### Q27"
      ]
    },
    {
      "cell_type": "code",
      "execution_count": null,
      "id": "979bd41e",
      "metadata": {
        "id": "979bd41e"
      },
      "outputs": [],
      "source": [
        "# We repeat the previous process for Asian ATM Put Option\n",
        "# Define the Asian option pricing function using the binomial tree\n",
        "def asian_option(S_ini, K, T, r, sigma, N, opttype):\n",
        "    dt = T / N  # Define time step\n",
        "    u = np.exp(sigma * np.sqrt(dt))\n",
        "    d = np.exp(-sigma * np.sqrt(dt))\n",
        "    p = (np.exp(r * dt) - d) / (u - d)  # Risk-neutral probability\n",
        "\n",
        "    C = np.zeros([N + 1, N + 1])  # Option prices\n",
        "    S = np.zeros([N + 1, N + 1])  # Underlying price\n",
        "    Delta = np.zeros([N, N])  # Delta\n",
        "\n",
        "    # Initialize underlying stock price tree\n",
        "    for i in range(N + 1):\n",
        "        S[N, i] = S_ini * (u ** i) * (d ** (N - i))\n",
        "\n",
        "    # Compute payoff at maturity using the average price\n",
        "    for i in range(N + 1):\n",
        "        avg_price = np.mean([S[N, j] for j in range(i + 1)])\n",
        "        if opttype == \"C\":\n",
        "            C[N, i] = max(avg_price - K, 0)\n",
        "        else:\n",
        "            C[N, i] = max(K - avg_price, 0)\n",
        "\n",
        "    # Backward induction for option pricing and delta calculation\n",
        "    for j in range(N - 1, -1, -1):\n",
        "        for i in range(j + 1):\n",
        "            avg_price = np.mean([S[j, k] for k in range(i + 1)])\n",
        "            C[j, i] = np.exp(-r * dt) * (p * C[j + 1, i + 1] + (1 - p) * C[j + 1, i])\n",
        "            S[j, i] = S_ini * (u ** i) * (d ** (j - i))\n",
        "            if opttype == \"C\":\n",
        "                C[j, i] = max(C[j, i], avg_price - K)\n",
        "            else:\n",
        "                C[j, i] = max(C[j, i], K - avg_price)\n",
        "            Delta[j, i] = (C[j + 1, i + 1] - C[j + 1, i]) / (S[j + 1, i + 1] - S[j + 1, i])\n",
        "\n",
        "    return C[0, 0], C, S, Delta\n"
      ]
    },
    {
      "cell_type": "code",
      "execution_count": null,
      "id": "db401f98",
      "metadata": {
        "id": "db401f98",
        "outputId": "711d03b8-ebb4-4dd7-fed2-fce2b6a6675e"
      },
      "outputs": [
        {
          "name": "stdout",
          "output_type": "stream",
          "text": [
            "Delta Matrix:  [[-6.82 0.00 0.00 0.00 0.00 0.00 0.00 0.00 0.00 0.00 0.00 0.00 0.00 0.00\n",
            "  0.00 0.00 0.00 0.00 0.00 0.00 0.00 0.00 0.00 0.00 0.00]\n",
            " [-6.82 -2.26 0.00 0.00 0.00 0.00 0.00 0.00 0.00 0.00 0.00 0.00 0.00 0.00\n",
            "  0.00 0.00 0.00 0.00 0.00 0.00 0.00 0.00 0.00 0.00 0.00]\n",
            " [-6.82 -2.35 -0.42 0.00 0.00 0.00 0.00 0.00 0.00 0.00 0.00 0.00 0.00\n",
            "  0.00 0.00 0.00 0.00 0.00 0.00 0.00 0.00 0.00 0.00 0.00 0.00]\n",
            " [-6.82 -2.41 -0.47 -0.38 0.00 0.00 0.00 0.00 0.00 0.00 0.00 0.00 0.00\n",
            "  0.00 0.00 0.00 0.00 0.00 0.00 0.00 0.00 0.00 0.00 0.00 0.00]]\n"
          ]
        }
      ],
      "source": [
        "# Using the same data as Q26 for pricing an Asian ATM Put Option\n",
        "S_ini = 180  # Initial stock price\n",
        "K = 180      # Strike price (ATM)\n",
        "T = 0.5      # Time to expiration (6 months)\n",
        "r = 0.02     # Risk-free rate (2%)\n",
        "sigma = 0.25  # Initial volatility (25%)\n",
        "N = 25       # Number of time steps\n",
        "\n",
        "# Compute Asian Put Option\n",
        "price, C, S, Delta = asian_option(S_ini, K, T, r, sigma, N, \"P\")\n",
        "\n",
        "np.set_printoptions(formatter={'float': '{:0.2f}'.format})  # Set formatting to 0 decimal places\n",
        "\n",
        "#print(\"Asian Put Option Price: \",C[0, 0])  # Print Option Price\n",
        "#print(C)  # Print Option Price\n",
        "#print(S)\n",
        "print(\"Delta Matrix: \",Delta[0:4])  # Print Delta matrix\n"
      ]
    },
    {
      "cell_type": "code",
      "execution_count": null,
      "id": "6d616eeb",
      "metadata": {
        "id": "6d616eeb"
      },
      "outputs": [],
      "source": []
    }
  ],
  "metadata": {
    "kernelspec": {
      "display_name": "Python 3 (ipykernel)",
      "language": "python",
      "name": "python3"
    },
    "language_info": {
      "codemirror_mode": {
        "name": "ipython",
        "version": 3
      },
      "file_extension": ".py",
      "mimetype": "text/x-python",
      "name": "python",
      "nbconvert_exporter": "python",
      "pygments_lexer": "ipython3",
      "version": "3.9.13"
    },
    "colab": {
      "provenance": [],
      "include_colab_link": true
    }
  },
  "nbformat": 4,
  "nbformat_minor": 5
}