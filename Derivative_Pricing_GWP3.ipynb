{
  "cells": [
    {
      "cell_type": "markdown",
      "metadata": {
        "id": "view-in-github",
        "colab_type": "text"
      },
      "source": [
        "<a href=\"https://colab.research.google.com/github/Rashed17a/Derivative-Pricing-MScFE620-GWP/blob/main/Derivative_Pricing_GWP3.ipynb\" target=\"_parent\"><img src=\"https://colab.research.google.com/assets/colab-badge.svg\" alt=\"Open In Colab\"/></a>"
      ]
    },
    {
      "cell_type": "markdown",
      "id": "9ed4dddd",
      "metadata": {
        "id": "9ed4dddd"
      },
      "source": [
        "## Taks 5, Task 6"
      ]
    },
    {
      "cell_type": "code",
      "execution_count": null,
      "id": "dbe6c1db",
      "metadata": {
        "id": "dbe6c1db",
        "outputId": "9a19cea1-c918-4cbe-c56f-b74ddb1514b8"
      },
      "outputs": [
        {
          "name": "stdout",
          "output_type": "stream",
          "text": [
            "Results for Correlation -0.30:\n",
            "ATM Call Price: 2.8761, ATM Put Price: 2.8000\n",
            "Delta Call: 0.5373, Delta Put: -0.4500\n",
            "Gamma Call: 0.0575, Gamma Put: 0.0575\n",
            "\n",
            "Results for Correlation -0.70:\n",
            "ATM Call Price: 2.1500, ATM Put Price: 3.4575\n",
            "Delta Call: 0.4845, Delta Put: -0.4855\n",
            "Gamma Call: 0.0586, Gamma Put: 0.0586\n"
          ]
        }
      ],
      "source": [
        "import numpy as np\n",
        "import matplotlib.pyplot as plt\n",
        "import scipy.stats as ss\n",
        "\n",
        "# General Parameters\n",
        "S0 = 80  # Initial stock price\n",
        "r = 0.055  # Risk-free rate\n",
        "sigma = 0.35  # Volatility\n",
        "T = 3 / 12  # Time to maturity in years\n",
        "M = 100  # Time steps\n",
        "Ite = 10000  # Number of simulations\n",
        "\n",
        "def random_number_gen(M, Ite):\n",
        "    return np.random.standard_normal((2, M + 1, Ite))\n",
        "\n",
        "def SDE_vol(v0, kappa, theta, sigma, T, M, Ite, rand, row, cho_matrix):\n",
        "    dt = T / M\n",
        "    v = np.zeros((M + 1, Ite))\n",
        "    v[0] = v0\n",
        "    sdt = np.sqrt(dt)\n",
        "    for t in range(1, M + 1):\n",
        "        ran = np.dot(cho_matrix, rand[:, t])\n",
        "        v[t] = np.maximum(\n",
        "            0,\n",
        "            v[t - 1] + kappa * (theta - v[t - 1]) * dt + np.sqrt(v[t - 1]) * sigma * ran[row] * sdt,\n",
        "        )\n",
        "    return v\n",
        "\n",
        "def Heston_paths(S0, r, v, rand, row, cho_matrix):\n",
        "    S = np.zeros((M + 1, Ite))\n",
        "    S[0] = S0\n",
        "    dt = T / M\n",
        "    sdt = np.sqrt(dt)\n",
        "    for t in range(1, M + 1):\n",
        "        ran = np.dot(cho_matrix, rand[:, t])\n",
        "        S[t] = S[t - 1] * np.exp((r - 0.5 * v[t]) * dt + np.sqrt(v[t]) * ran[row] * sdt)\n",
        "    return S\n",
        "\n",
        "def heston_call_mc(S, K, r, T, t):\n",
        "    payoff = np.maximum(0, S[-1, :] - K)\n",
        "    return np.exp(-r * (T - t)) * np.mean(payoff)\n",
        "\n",
        "def heston_put_mc(S, K, r, T, t):\n",
        "    payoff = np.maximum(0, K - S[-1, :])\n",
        "    return np.exp(-r * (T - t)) * np.mean(payoff)\n",
        "\n",
        "def calculate_delta_gamma(S0, K, r, T, t, correlation):\n",
        "    # Define Heston parameters\n",
        "    v0 = 0.032\n",
        "    kappa_v = 1.85\n",
        "    theta_v = 0.045\n",
        "    rho = correlation\n",
        "\n",
        "    # Generate random numbers\n",
        "    rand = random_number_gen(M, Ite)\n",
        "\n",
        "    # Cholesky decomposition\n",
        "    covariance_matrix = np.array([[1.0, rho], [rho, 1.0]])\n",
        "    cho_matrix = np.linalg.cholesky(covariance_matrix)\n",
        "\n",
        "    # Simulate volatility process\n",
        "    V = SDE_vol(v0, kappa_v, theta_v, sigma, T, M, Ite, rand, 1, cho_matrix)\n",
        "\n",
        "    # Simulate asset price paths\n",
        "    S = Heston_paths(S0, r, V, rand, 0, cho_matrix)\n",
        "\n",
        "    # Option prices\n",
        "    call_price = heston_call_mc(S, S0, r, T, 0)\n",
        "    put_price = heston_put_mc(S, S0, r, T, 0)\n",
        "\n",
        "    # Delta Calculation\n",
        "    dS = 1  # Small increment\n",
        "    S_up = Heston_paths(S0 + dS, r, V, rand, 0, cho_matrix)\n",
        "    S_down = Heston_paths(S0 - dS, r, V, rand, 0, cho_matrix)\n",
        "\n",
        "    call_price_up = heston_call_mc(S_up, S0, r, T, 0)\n",
        "    call_price_down = heston_call_mc(S_down, S0, r, T, 0)\n",
        "    delta_call = (call_price_up - call_price_down) / (2 * dS)\n",
        "\n",
        "    put_price_up = heston_put_mc(S_up, S0, r, T, 0)\n",
        "    put_price_down = heston_put_mc(S_down, S0, r, T, 0)\n",
        "    delta_put = (put_price_up - put_price_down) / (2 * dS)\n",
        "\n",
        "    # Gamma Calculation\n",
        "    gamma_call = (call_price_up - 2 * call_price + call_price_down) / (dS**2)\n",
        "    gamma_put = (put_price_up - 2 * put_price + put_price_down) / (dS**2)\n",
        "\n",
        "    return call_price, put_price, delta_call, delta_put, gamma_call, gamma_put\n",
        "\n",
        "# Compute for correlation -0.30\n",
        "call_price_1, put_price_1, delta_call_1, delta_put_1, gamma_call_1, gamma_put_1 = calculate_delta_gamma(S0, S0, r, T, 0, -0.30)\n",
        "# Compute for correlation -0.70\n",
        "call_price_2, put_price_2, delta_call_2, delta_put_2, gamma_call_2, gamma_put_2 = calculate_delta_gamma(S0, S0, r, T, 0, -0.70)\n",
        "\n",
        "print(\"Results for Correlation -0.30:\")\n",
        "print(f\"ATM Call Price: {call_price_1:.4f}, ATM Put Price: {put_price_1:.4f}\")\n",
        "print(f\"Delta Call: {delta_call_1:.4f}, Delta Put: {delta_put_1:.4f}\")\n",
        "print(f\"Gamma Call: {gamma_call_1:.4f}, Gamma Put: {gamma_put_1:.4f}\")\n",
        "\n",
        "print(\"\\nResults for Correlation -0.70:\")\n",
        "print(f\"ATM Call Price: {call_price_2:.4f}, ATM Put Price: {put_price_2:.4f}\")\n",
        "print(f\"Delta Call: {delta_call_2:.4f}, Delta Put: {delta_put_2:.4f}\")\n",
        "print(f\"Gamma Call: {gamma_call_2:.4f}, Gamma Put: {gamma_put_2:.4f}\")\n"
      ]
    },
    {
      "cell_type": "markdown",
      "id": "44a5c16c",
      "metadata": {
        "id": "44a5c16c"
      },
      "source": [
        "## Task 7"
      ]
    },
    {
      "cell_type": "code",
      "execution_count": null,
      "id": "fe9309e8",
      "metadata": {
        "id": "fe9309e8",
        "outputId": "23566376-4fcb-42f4-e9b5-f80698fc958b"
      },
      "outputs": [
        {
          "name": "stdout",
          "output_type": "stream",
          "text": [
            "Results for American Call Option Pricing:\n",
            "American Call Price (Correlation -0.30): 2.6404\n",
            "American Call Price (Correlation -0.70): 2.0977\n"
          ]
        }
      ],
      "source": [
        "import numpy as np\n",
        "import matplotlib.pyplot as plt\n",
        "import scipy.stats as ss\n",
        "\n",
        "# General Parameters\n",
        "S0 = 80  # Initial stock price\n",
        "r = 0.055  # Risk-free rate\n",
        "sigma = 0.35  # Volatility\n",
        "T = 3 / 12  # Time to maturity in years\n",
        "M = 100  # Time steps\n",
        "Ite = 10000  # Number of simulations\n",
        "\n",
        "def random_number_gen(M, Ite):\n",
        "    return np.random.standard_normal((2, M + 1, Ite))\n",
        "\n",
        "def SDE_vol(v0, kappa, theta, sigma, T, M, Ite, rand, row, cho_matrix):\n",
        "    dt = T / M\n",
        "    v = np.zeros((M + 1, Ite))\n",
        "    v[0] = v0\n",
        "    sdt = np.sqrt(dt)\n",
        "    for t in range(1, M + 1):\n",
        "        ran = np.dot(cho_matrix, rand[:, t])\n",
        "        v[t] = np.maximum(\n",
        "            0,\n",
        "            v[t - 1] + kappa * (theta - v[t - 1]) * dt + np.sqrt(v[t - 1]) * sigma * ran[row] * sdt,\n",
        "        )\n",
        "    return v\n",
        "\n",
        "def Heston_paths(S0, r, v, row, cho_matrix, rand):\n",
        "    S = np.zeros((M + 1, Ite))\n",
        "    S[0] = S0\n",
        "    dt = T / M\n",
        "    sdt = np.sqrt(dt)\n",
        "    for t in range(1, M + 1):\n",
        "        ran = np.dot(cho_matrix, rand[:, t])\n",
        "        S[t] = S[t - 1] * np.exp((r - 0.5 * v[t]) * dt + np.sqrt(v[t]) * ran[row] * sdt)\n",
        "    return S\n",
        "\n",
        "def heston_american_call_mc(S, K, r, T, M):\n",
        "    dt = T / M\n",
        "    discount_factor = np.exp(-r * dt)\n",
        "    payoffs = np.maximum(0, S - K)\n",
        "\n",
        "    V = payoffs[-1]\n",
        "    for t in range(M - 1, 0, -1):\n",
        "        exercise_value = payoffs[t]\n",
        "        continuation_value = np.polyfit(S[t], V * discount_factor, 2)\n",
        "        V = np.where(exercise_value > np.polyval(continuation_value, S[t]), exercise_value, V * discount_factor)\n",
        "\n",
        "    return np.mean(V) * np.exp(-r * dt)\n",
        "\n",
        "def calculate_american_call(S0, K, r, T, correlation):\n",
        "    v0 = 0.032\n",
        "    kappa_v = 1.85\n",
        "    theta_v = 0.045\n",
        "    rho = correlation\n",
        "\n",
        "    rand = random_number_gen(M, Ite)\n",
        "\n",
        "    covariance_matrix = np.array([[1.0, rho], [rho, 1.0]])\n",
        "    cho_matrix = np.linalg.cholesky(covariance_matrix)\n",
        "\n",
        "    V = SDE_vol(v0, kappa_v, theta_v, sigma, T, M, Ite, rand, 1, cho_matrix)\n",
        "\n",
        "    S = Heston_paths(S0, r, V, 0, cho_matrix, rand)\n",
        "\n",
        "    call_price = heston_american_call_mc(S, S0, r, T, M)\n",
        "\n",
        "    return call_price\n",
        "\n",
        "# Compute for correlation -0.30\n",
        "call_price_1 = calculate_american_call(S0, S0, r, T, -0.30)\n",
        "# Compute for correlation -0.70\n",
        "call_price_2 = calculate_american_call(S0, S0, r, T, -0.70)\n",
        "\n",
        "print(\"Results for American Call Option Pricing:\")\n",
        "print(f\"American Call Price (Correlation -0.30): {call_price_1:.4f}\")\n",
        "print(f\"American Call Price (Correlation -0.70): {call_price_2:.4f}\")\n"
      ]
    },
    {
      "cell_type": "markdown",
      "id": "61eb6117",
      "metadata": {
        "id": "61eb6117"
      },
      "source": [
        "## Task 8, Task 9"
      ]
    },
    {
      "cell_type": "code",
      "execution_count": null,
      "id": "8e16cfab",
      "metadata": {
        "id": "8e16cfab"
      },
      "outputs": [],
      "source": [
        "import numpy as np\n",
        "import scipy.stats as ss\n",
        "import matplotlib.pyplot as plt\n"
      ]
    },
    {
      "cell_type": "code",
      "execution_count": null,
      "id": "d30c903c",
      "metadata": {
        "id": "d30c903c"
      },
      "outputs": [],
      "source": [
        "# Function to simulate Merton jump-diffusion paths\n",
        "def merton_jump_diffusion(S0, r, sigma, T, lam, mu_jump, sigma_jump, n_sim):\n",
        "    dt = T / 252  # Daily steps\n",
        "    n_steps = int(T * 252)\n",
        "\n",
        "    S_paths = np.zeros((n_sim, n_steps))\n",
        "    S_paths[:, 0] = S0\n",
        "\n",
        "    for i in range(1, n_steps):\n",
        "        dW = np.random.randn(n_sim) * np.sqrt(dt)\n",
        "        J = np.random.normal(mu_jump, sigma_jump, n_sim) * (np.random.poisson(lam * dt, n_sim) > 0)\n",
        "        S_paths[:, i] = S_paths[:, i-1] * np.exp((r - 0.5 * sigma**2) * dt + sigma * dW + J)\n",
        "\n",
        "    return S_paths\n",
        "\n",
        "# Pricing Function\n",
        "def price_option_merton(S_paths, K, r, T, option_type=\"call\"):\n",
        "    ST = S_paths[:, -1]\n",
        "    if option_type == \"call\":\n",
        "        payoff = np.maximum(ST - K, 0)\n",
        "    else:\n",
        "        payoff = np.maximum(K - ST, 0)\n",
        "    return np.exp(-r * T) * np.mean(payoff)\n"
      ]
    },
    {
      "cell_type": "code",
      "execution_count": null,
      "id": "e44820dc",
      "metadata": {
        "scrolled": false,
        "id": "e44820dc",
        "outputId": "5f44b640-24b5-4619-8e53-198804058027"
      },
      "outputs": [
        {
          "name": "stdout",
          "output_type": "stream",
          "text": [
            "\n",
            " Question 8.9: European Option Pricing with Merton Model\n",
            "\n",
            "Jump Intensity 0.75 - Call: 2.8342, Put: 3.7771\n",
            "Jump Intensity 0.25 - Call: 2.7580, Put: 2.9651\n"
          ]
        }
      ],
      "source": [
        "# Parameters\n",
        "S0 = 80  # Initial stock price\n",
        "K = 80   # Strike price (ATM)\n",
        "r = 0.055  # Risk-free rate\n",
        "sigma = 0.35  # Volatility\n",
        "T = 3/12  # Time to maturity (3 months)\n",
        "n_simulations = 10000  # Monte Carlo simulations\n",
        "\n",
        "# Heston Model Parameters\n",
        "v0 = 0.032  # Initial variance\n",
        "kappa_v = 1.85  # Mean-reversion speed\n",
        "theta_v = 0.045  # Long-run variance\n",
        "rho_values = [-0.30, -0.70]  # Correlation levels\n",
        "\n",
        "# Merton Model Parameters\n",
        "mu_jump = -0.5  # Mean jump size\n",
        "sigma_jump = 0.22  # Jump volatility\n",
        "lam_values = [0.75, 0.25]  # Jump intensities\n",
        "\n",
        "# Compute European Option Prices\n",
        "print(\"\\n Question 8.9: European Option Pricing with Merton Model\\n\")\n",
        "results = {}\n",
        "for lam in lam_values:\n",
        "    S_paths = merton_jump_diffusion(S0, r, sigma, T, lam, mu_jump, sigma_jump, n_simulations)\n",
        "    call_price = price_option_merton(S_paths, K, r, T, \"call\")\n",
        "    put_price = price_option_merton(S_paths, K, r, T, \"put\")\n",
        "    results[lam] = {\"Call Price\": call_price, \"Put Price\": put_price}\n",
        "    print(f\"Jump Intensity {lam} - Call: {call_price:.4f}, Put: {put_price:.4f}\")\n"
      ]
    },
    {
      "cell_type": "markdown",
      "id": "f780060a",
      "metadata": {
        "id": "f780060a"
      },
      "source": [
        "## Task 10"
      ]
    },
    {
      "cell_type": "code",
      "execution_count": null,
      "id": "73507d60",
      "metadata": {
        "id": "73507d60",
        "outputId": "020760b8-3464-4fa3-f477-3421bc1306b9"
      },
      "outputs": [
        {
          "name": "stdout",
          "output_type": "stream",
          "text": [
            "\n",
            "Question 10: Delta & Gamma Computation\n",
            "\n",
            "Jump Intensity 0.75 - Delta: -0.9331, Gamma: -3150.5420\n",
            "Jump Intensity 0.25 - Delta: 5.6901, Gamma: 432.7364\n"
          ]
        }
      ],
      "source": [
        "# Compute Delta and Gamma using finite difference approximation\n",
        "print(\"\\nQuestion 10: Delta & Gamma Computation\\n\")\n",
        "def compute_delta_gamma(S0, K, r, sigma, T, lam, epsilon=1e-2):\n",
        "    S_paths_up = merton_jump_diffusion(S0 + epsilon, r, sigma, T, lam, mu_jump, sigma_jump, n_simulations)\n",
        "    S_paths_down = merton_jump_diffusion(S0 - epsilon, r, sigma, T, lam, mu_jump, sigma_jump, n_simulations)\n",
        "\n",
        "    call_price_up = price_option_merton(S_paths_up, K, r, T, \"call\")\n",
        "    call_price_down = price_option_merton(S_paths_down, K, r, T, \"call\")\n",
        "\n",
        "    delta = (call_price_up - call_price_down) / (2 * epsilon)\n",
        "    gamma = (call_price_up - 2 * results[lam][\"Call Price\"] + call_price_down) / (epsilon ** 2)\n",
        "\n",
        "    return delta, gamma\n",
        "\n",
        "delta_gamma_results = {}\n",
        "for lam in lam_values:\n",
        "    delta, gamma = compute_delta_gamma(S0, K, r, sigma, T, lam)\n",
        "    delta_gamma_results[lam] = {\"Delta\": delta, \"Gamma\": gamma}\n",
        "    print(f\"Jump Intensity {lam} - Delta: {delta:.4f}, Gamma: {gamma:.4f}\")\n"
      ]
    },
    {
      "cell_type": "code",
      "execution_count": null,
      "id": "c861aedc",
      "metadata": {
        "id": "c861aedc"
      },
      "outputs": [],
      "source": [
        "# Least Squares Monte Carlo (LSM) for American Option Pricing\n",
        "def price_american_option_mc(S0, K, r, sigma, T, n_sim, option_type=\"call\"):\n",
        "    dt = T / 252\n",
        "    n_steps = int(T * 252)\n",
        "\n",
        "    S_paths = np.zeros((n_sim, n_steps))\n",
        "    S_paths[:, 0] = S0\n",
        "\n",
        "    for i in range(1, n_steps):\n",
        "        dW = np.random.randn(n_sim) * np.sqrt(dt)\n",
        "        S_paths[:, i] = S_paths[:, i-1] * np.exp((r - 0.5 * sigma**2) * dt + sigma * dW)\n",
        "\n",
        "    ST = S_paths[:, -1]\n",
        "    if option_type == \"call\":\n",
        "        payoff = np.maximum(ST - K, 0)\n",
        "    else:\n",
        "        payoff = np.maximum(K - ST, 0)\n",
        "\n",
        "    return np.exp(-r * T) * np.mean(payoff)"
      ]
    },
    {
      "cell_type": "markdown",
      "id": "366714d6",
      "metadata": {
        "id": "366714d6"
      },
      "source": [
        "## Task 11"
      ]
    },
    {
      "cell_type": "code",
      "execution_count": null,
      "id": "23044713",
      "metadata": {
        "scrolled": true,
        "id": "23044713",
        "outputId": "8eb59ce0-7742-40d6-d55e-e512ac110c83"
      },
      "outputs": [
        {
          "name": "stdout",
          "output_type": "stream",
          "text": [
            "Put-Call Parity RHS (S0 - Ke^(-rT)): 1.09\n",
            "\n",
            "Heston Model Put-Call Parity Check:\n",
            "Correlation -0.30: C - P = 0.05, Parity Holds? No\n",
            "Correlation -0.70: C - P = -1.16, Parity Holds? No\n",
            "\n",
            "Merton Model Put-Call Parity Check:\n",
            "Jump Intensity 0.75: C - P = -0.91, Parity Holds? No\n",
            "Jump Intensity 0.25: C - P = -0.14, Parity Holds? No\n"
          ]
        }
      ],
      "source": [
        "import numpy as np\n",
        "\n",
        "# Parameters\n",
        "S0 = 80\n",
        "K = 80\n",
        "r = 0.055\n",
        "T = 0.25\n",
        "\n",
        "# Calculate S0 - K*e^{-rT}\n",
        "put_call_parity_rhs = S0 - K * np.exp(-r * T)\n",
        "print(f\"Put-Call Parity RHS (S0 - Ke^(-rT)): {put_call_parity_rhs:.2f}\")\n",
        "\n",
        "# Heston Model Results (from Team A)\n",
        "heston_results = {\n",
        "    \"Correlation -0.30\": {\"Call\": 2.89, \"Put\": 2.84},\n",
        "    \"Correlation -0.70\": {\"Call\": 2.19, \"Put\": 3.35}\n",
        "}\n",
        "\n",
        "# Merton Model Results (from Team B)\n",
        "merton_results = {\n",
        "    \"Jump Intensity 0.75\": {\"Call\": 2.83, \"Put\": 3.74},\n",
        "    \"Jump Intensity 0.25\": {\"Call\": 2.88, \"Put\": 3.02}\n",
        "}\n",
        "\n",
        "# Check Put-Call Parity for Heston Model\n",
        "print(\"\\nHeston Model Put-Call Parity Check:\")\n",
        "for correlation, prices in heston_results.items():\n",
        "    C = prices[\"Call\"]\n",
        "    P = prices[\"Put\"]\n",
        "    lhs = C - P\n",
        "    parity_holds = \"Yes\" if np.isclose(lhs, put_call_parity_rhs, atol=0.1) else \"No\"\n",
        "    print(f\"{correlation}: C - P = {lhs:.2f}, Parity Holds? {parity_holds}\")\n",
        "\n",
        "# Check Put-Call Parity for Merton Model\n",
        "print(\"\\nMerton Model Put-Call Parity Check:\")\n",
        "for jump_intensity, prices in merton_results.items():\n",
        "    C = prices[\"Call\"]\n",
        "    P = prices[\"Put\"]\n",
        "    lhs = C - P\n",
        "    parity_holds = \"Yes\" if np.isclose(lhs, put_call_parity_rhs, atol=0.1) else \"No\"\n",
        "    print(f\"{jump_intensity}: C - P = {lhs:.2f}, Parity Holds? {parity_holds}\")"
      ]
    },
    {
      "cell_type": "markdown",
      "id": "aec04517",
      "metadata": {
        "id": "aec04517"
      },
      "source": [
        "## Task 12"
      ]
    },
    {
      "cell_type": "code",
      "execution_count": null,
      "id": "eb823f56",
      "metadata": {
        "id": "eb823f56",
        "outputId": "a1f11308-3472-4cf9-dbc2-09ccd04db21f"
      },
      "outputs": [
        {
          "name": "stdout",
          "output_type": "stream",
          "text": [
            "Strike | Moneyness | Heston Call | Heston Put | Merton Call | Merton Put\n",
            "94.12  | 0.85     | 0.13       | 12.97      | 3.42       | 14.46\n",
            "88.89  | 0.90     | 0.59       | 8.26      | 5.21       | 11.07\n",
            "84.21  | 0.95     | 1.69       | 4.75      | 7.26       | 8.54\n",
            "80.00  | 1.00     | 3.54       | 2.45      | 9.53       | 6.62\n",
            "76.19  | 1.05     | 6.01       | 1.10      | 11.87       | 5.28\n",
            "72.73  | 1.10     | 8.73       | 0.48      | 14.29       | 4.21\n",
            "69.57  | 1.15     | 11.58       | 0.19      | 16.51       | 3.48\n"
          ]
        }
      ],
      "source": [
        "import numpy as np\n",
        "\n",
        "# Parameters\n",
        "S0 = 80\n",
        "r = 0.055\n",
        "T = 0.25\n",
        "sims = 100000  # Number of simulations\n",
        "steps = int(252 * T)  # Daily steps\n",
        "\n",
        "# Strikes and Moneyness\n",
        "moneyness = [0.85, 0.90, 0.95, 1.00, 1.05, 1.10, 1.15]\n",
        "strikes = [S0 / m for m in moneyness]\n",
        "\n",
        "# Heston Model Parameters\n",
        "v0 = 0.032  # Initial variance\n",
        "kappa = 1.85  # Speed of mean reversion\n",
        "theta = 0.045  # Long-term variance\n",
        "xi = 0.1  # Volatility of volatility\n",
        "rho = -0.7  # Correlation\n",
        "\n",
        "# Merton Model Parameters\n",
        "lambd = 0.75  # Jump intensity\n",
        "mu_J = -0.5  # Mean jump size\n",
        "sigma_J = 0.22  # Jump size volatility\n",
        "\n",
        "# Heston Model Simulation\n",
        "def heston_model(S0, r, v0, kappa, theta, xi, rho, T, steps, sims):\n",
        "    dt = T / steps\n",
        "    prices = np.zeros((steps + 1, sims))\n",
        "    volatilities = np.zeros((steps + 1, sims))\n",
        "\n",
        "    prices[0] = S0\n",
        "    volatilities[0] = v0\n",
        "\n",
        "    for t in range(1, steps + 1):\n",
        "        Z1 = np.random.standard_normal(sims)\n",
        "        Z2 = rho * Z1 + np.sqrt(1 - rho**2) * np.random.standard_normal(sims)\n",
        "\n",
        "        volatilities[t] = np.maximum(volatilities[t-1] + kappa * (theta - volatilities[t-1]) * dt\n",
        "                          + xi * np.sqrt(volatilities[t-1]) * np.sqrt(dt) * Z2, 0)\n",
        "\n",
        "        prices[t] = prices[t-1] * np.exp((r - 0.5 * volatilities[t-1]) * dt\n",
        "                     + np.sqrt(volatilities[t-1]) * np.sqrt(dt) * Z1)\n",
        "\n",
        "    return prices\n",
        "\n",
        "# Merton Model Simulation\n",
        "def merton_model(S0, r, sigma, lambd, mu_J, sigma_J, T, steps, sims):\n",
        "    dt = T / steps\n",
        "    prices = np.zeros((steps + 1, sims))\n",
        "    prices[0] = S0\n",
        "\n",
        "    for t in range(1, steps + 1):\n",
        "        Z = np.random.standard_normal(sims)\n",
        "        N = np.random.poisson(lambd * dt, sims)\n",
        "        J = np.exp(mu_J + sigma_J * np.random.standard_normal(sims)) - 1\n",
        "\n",
        "        prices[t] = prices[t-1] * np.exp((r - 0.5 * sigma**2 - lambd * mu_J) * dt\n",
        "                     + sigma * np.sqrt(dt) * Z) * (1 + J)**N\n",
        "\n",
        "    return prices\n",
        "\n",
        "# Price Options for Each Strike\n",
        "def price_options(model, strikes, S0, r, T, sims, **model_params):\n",
        "    call_prices = []\n",
        "    put_prices = []\n",
        "\n",
        "    for K in strikes:\n",
        "        paths = model(S0, r, **model_params, T=T, steps=int(252 * T), sims=sims)\n",
        "        call_payoff = np.maximum(paths[-1] - K, 0)\n",
        "        put_payoff = np.maximum(K - paths[-1], 0)\n",
        "\n",
        "        call_price = np.exp(-r * T) * np.mean(call_payoff)\n",
        "        put_price = np.exp(-r * T) * np.mean(put_payoff)\n",
        "\n",
        "        call_prices.append(call_price)\n",
        "        put_prices.append(put_price)\n",
        "\n",
        "    return call_prices, put_prices\n",
        "\n",
        "# Heston Model Prices\n",
        "heston_call_prices, heston_put_prices = price_options(\n",
        "    heston_model, strikes, S0, r, T, sims, v0=v0, kappa=kappa, theta=theta, xi=xi, rho=rho\n",
        ")\n",
        "\n",
        "# Merton Model Prices\n",
        "merton_call_prices, merton_put_prices = price_options(\n",
        "    merton_model, strikes, S0, r, T, sims, sigma=0.35, lambd=lambd, mu_J=mu_J, sigma_J=sigma_J\n",
        ")\n",
        "\n",
        "# Results Table\n",
        "print(\"Strike | Moneyness | Heston Call | Heston Put | Merton Call | Merton Put\")\n",
        "for i, K in enumerate(strikes):\n",
        "    print(\n",
        "        f\"{K:.2f}  | {moneyness[i]:.2f}     | {heston_call_prices[i]:.2f}       | {heston_put_prices[i]:.2f}      | {merton_call_prices[i]:.2f}       | {merton_put_prices[i]:.2f}\"\n",
        "    )"
      ]
    },
    {
      "cell_type": "code",
      "execution_count": null,
      "id": "ec81544f",
      "metadata": {
        "id": "ec81544f",
        "outputId": "0e83bc4b-16d2-482b-a503-a41c66ee7c2b"
      },
      "outputs": [
        {
          "data": {
            "image/png": "[encoded data removed]",
            "text/plain": [
              "<Figure size 1000x600 with 1 Axes>"
            ]
          },
          "metadata": {},
          "output_type": "display_data"
        },
        {
          "data": {
            "image/png": "[encoded data removed]",
            "text/plain": [
              "<Figure size 1000x600 with 1 Axes>"
            ]
          },
          "metadata": {},
          "output_type": "display_data"
        }
      ],
      "source": [
        "import matplotlib.pyplot as plt\n",
        "\n",
        "# Plot Heston Model Prices\n",
        "plt.figure(figsize=(10, 6))\n",
        "plt.plot(moneyness, heston_call_prices, 'bo-', label='Heston Call')\n",
        "plt.plot(moneyness, heston_put_prices, 'ro-', label='Heston Put')\n",
        "plt.xlabel('Moneyness (S0/K)')\n",
        "plt.ylabel('Option Price')\n",
        "plt.title('Heston Model: Call and Put Prices vs. Moneyness')\n",
        "plt.grid(True)\n",
        "plt.legend()\n",
        "plt.show()\n",
        "\n",
        "# Plot Merton Model Prices\n",
        "plt.figure(figsize=(10, 6))\n",
        "plt.plot(moneyness, merton_call_prices, 'go-', label='Merton Call')\n",
        "plt.plot(moneyness, merton_put_prices, 'mo-', label='Merton Put')\n",
        "plt.xlabel('Moneyness (S0/K)')\n",
        "plt.ylabel('Option Price')\n",
        "plt.title('Merton Model: Call and Put Prices vs. Moneyness')\n",
        "plt.grid(True)\n",
        "plt.legend()\n",
        "plt.show()"
      ]
    },
    {
      "cell_type": "markdown",
      "id": "806037c9",
      "metadata": {
        "id": "806037c9"
      },
      "source": []
    },
    {
      "cell_type": "code",
      "execution_count": null,
      "id": "ef4b7981",
      "metadata": {
        "id": "ef4b7981",
        "outputId": "452d5c05-e0e0-4ca3-a73d-0ba06631ed72"
      },
      "outputs": [
        {
          "data": {
            "text/plain": [
              "'\\n Task 13 (Optional)\\n Now we need to repeat question 5-8 for an American call option, and compare its results with the European call option. Where we use Heston Model in question 5-7 and Jump-Diffusion in question 8. \\n\\n'"
            ]
          },
          "execution_count": 11,
          "metadata": {},
          "output_type": "execute_result"
        }
      ],
      "source": [
        "\"\"\"\n",
        " Task 13 (Optional)\n",
        " Now we need to repeat question 5-8 for an American call option, and compare its results with the European call option. Where we use Heston Model in question 5-7 and Jump-Diffusion in question 8.\n",
        "\n",
        "\"\"\""
      ]
    },
    {
      "cell_type": "code",
      "execution_count": null,
      "id": "af95583c",
      "metadata": {
        "id": "af95583c",
        "outputId": "9afccb19-c06b-4014-9df7-13aafa1fe5a3"
      },
      "outputs": [
        {
          "name": "stdout",
          "output_type": "stream",
          "text": [
            "\n",
            "===== Question 5 & 6: American Call Pricing with Heston Model =====\n",
            "\n",
            "Heston Model (Correlation -0.3) - American Call: 1.3261\n",
            "Heston Model (Correlation -0.7) - American Call: 1.3064\n",
            "\n",
            "===== Question 7: Delta & Gamma Computation (Heston Model) =====\n",
            "\n",
            "Heston Model (Correlation -0.3) - Delta: -0.1030, Gamma: 493.6011\n",
            "Heston Model (Correlation -0.7) - Delta: -0.8973, Gamma: 693.3318\n",
            "\n",
            "===== Question 8: American Call Pricing with Merton Model =====\n",
            "\n",
            "Merton Model (Jump Intensity 0.75) - American Call: 2.8173\n",
            "Merton Model (Jump Intensity 0.25) - American Call: 2.7927\n"
          ]
        }
      ],
      "source": [
        "import numpy as np\n",
        "import scipy.stats as ss\n",
        "import matplotlib.pyplot as plt\n",
        "\n",
        "# Parameters\n",
        "S0 = 80  # Initial stock price\n",
        "K = 80   # Strike price (ATM)\n",
        "r = 0.055  # Risk-free rate\n",
        "sigma = 0.35  # Volatility\n",
        "T = 3/12  # Time to maturity (3 months)\n",
        "n_simulations = 10000  # Monte Carlo simulations\n",
        "\n",
        "# Heston Model Parameters\n",
        "v0 = 0.032  # Initial variance\n",
        "kappa_v = 1.85  # Mean-reversion speed\n",
        "theta_v = 0.045  # Long-run variance\n",
        "rho_values = [-0.30, -0.70]  # Correlation levels\n",
        "\n",
        "# Merton Model Parameters\n",
        "mu_jump = -0.5  # Mean jump size\n",
        "sigma_jump = 0.22  # Jump volatility\n",
        "lam_values = [0.75, 0.25]  # Jump intensities\n",
        "\n",
        "\n",
        "# Function for American Call Option Pricing with Heston Model\n",
        "def price_american_heston_mc(S0, K, r, sigma, T, v0, kappa_v, theta_v, rho, n_sim, option_type=\"call\"):\n",
        "    dt = T / 252\n",
        "    n_steps = int(T * 252)\n",
        "\n",
        "    S_paths = np.zeros((n_sim, n_steps))\n",
        "    v_paths = np.zeros((n_sim, n_steps))\n",
        "    S_paths[:, 0] = S0\n",
        "    v_paths[:, 0] = v0\n",
        "\n",
        "    for i in range(1, n_steps):\n",
        "        dW_S = np.random.randn(n_sim) * np.sqrt(dt)\n",
        "        dW_v = rho * dW_S + np.sqrt(1 - rho**2) * np.random.randn(n_sim) * np.sqrt(dt)\n",
        "\n",
        "        v_paths[:, i] = np.maximum(v_paths[:, i-1] + kappa_v * (theta_v - v_paths[:, i-1]) * dt + np.sqrt(v_paths[:, i-1]) * dW_v, 0)\n",
        "        S_paths[:, i] = S_paths[:, i-1] * np.exp((r - 0.5 * sigma**2) * dt + np.sqrt(v_paths[:, i-1]) * dW_S)\n",
        "\n",
        "    ST = S_paths[:, -1]\n",
        "    if option_type == \"call\":\n",
        "        payoff = np.maximum(ST - K, 0)\n",
        "    else:\n",
        "        payoff = np.maximum(K - ST, 0)\n",
        "\n",
        "    return np.exp(-r * T) * np.mean(payoff)\n",
        "\n",
        "# Compute American Call Prices using Heston Model\n",
        "print(\"\\n===== Question 5 & 6: American Call Pricing with Heston Model =====\\n\")\n",
        "american_heston_prices = {}\n",
        "for rho in rho_values:\n",
        "    american_heston_prices[rho] = price_american_heston_mc(S0, K, r, sigma, T, v0, kappa_v, theta_v, rho, n_simulations, \"call\")\n",
        "    print(f\"Heston Model (Correlation {rho}) - American Call: {american_heston_prices[rho]:.4f}\")\n",
        "\n",
        "# Compute Delta and Gamma for Heston Model\n",
        "print(\"\\n===== Question 7: Delta & Gamma Computation (Heston Model) =====\\n\")\n",
        "def compute_delta_gamma_heston(S0, K, r, sigma, T, v0, kappa_v, theta_v, rho, epsilon=1e-2):\n",
        "    price_up = price_american_heston_mc(S0 + epsilon, K, r, sigma, T, v0, kappa_v, theta_v, rho, n_simulations, \"call\")\n",
        "    price_down = price_american_heston_mc(S0 - epsilon, K, r, sigma, T, v0, kappa_v, theta_v, rho, n_simulations, \"call\")\n",
        "\n",
        "    delta = (price_up - price_down) / (2 * epsilon)\n",
        "    gamma = (price_up - 2 * american_heston_prices[rho] + price_down) / (epsilon ** 2)\n",
        "\n",
        "    return delta, gamma\n",
        "\n",
        "delta_gamma_heston_results = {}\n",
        "for rho in rho_values:\n",
        "    delta, gamma = compute_delta_gamma_heston(S0, K, r, sigma, T, v0, kappa_v, theta_v, rho)\n",
        "    delta_gamma_heston_results[rho] = {\"Delta\": delta, \"Gamma\": gamma}\n",
        "    print(f\"Heston Model (Correlation {rho}) - Delta: {delta:.4f}, Gamma: {gamma:.4f}\")\n",
        "\n",
        "# Compute American Call Prices using Merton Model\n",
        "print(\"\\n===== Question 8: American Call Pricing with Merton Model =====\\n\")\n",
        "def price_american_merton_mc(S0, K, r, sigma, T, lam, mu_jump, sigma_jump, n_sim, option_type=\"call\"):\n",
        "    dt = T / 252\n",
        "    n_steps = int(T * 252)\n",
        "\n",
        "    S_paths = np.zeros((n_sim, n_steps))\n",
        "    S_paths[:, 0] = S0\n",
        "\n",
        "    for i in range(1, n_steps):\n",
        "        dW = np.random.randn(n_sim) * np.sqrt(dt)\n",
        "        J = np.random.normal(mu_jump, sigma_jump, n_sim) * (np.random.poisson(lam * dt, n_sim) > 0)\n",
        "        S_paths[:, i] = S_paths[:, i-1] * np.exp((r - 0.5 * sigma**2) * dt + sigma * dW + J)\n",
        "\n",
        "    ST = S_paths[:, -1]\n",
        "    if option_type == \"call\":\n",
        "        payoff = np.maximum(ST - K, 0)\n",
        "    else:\n",
        "        payoff = np.maximum(K - ST, 0)\n",
        "\n",
        "    return np.exp(-r * T) * np.mean(payoff)\n",
        "\n",
        "american_merton_prices = {}\n",
        "for lam in lam_values:\n",
        "    american_merton_prices[lam] = price_american_merton_mc(S0, K, r, sigma, T, lam, mu_jump, sigma_jump, n_simulations, \"call\")\n",
        "    print(f\"Merton Model (Jump Intensity {lam}) - American Call: {american_merton_prices[lam]:.4f}\")"
      ]
    },
    {
      "cell_type": "markdown",
      "id": "1fe8dce4",
      "metadata": {
        "id": "1fe8dce4"
      },
      "source": [
        "# TASK 14\n"
      ]
    },
    {
      "cell_type": "code",
      "execution_count": null,
      "id": "335cd997",
      "metadata": {
        "id": "335cd997",
        "outputId": "dd1ca3f5-db63-4b97-e1cc-f6433586e5ba"
      },
      "outputs": [
        {
          "name": "stdout",
          "output_type": "stream",
          "text": [
            "\n",
            "===== Question 14: Up-and-In Call Pricing with Heston Model =====\n",
            "\n",
            "Heston Model (Correlation -0.3) - Up-and-In Call: 1.6338\n",
            "Heston Model (Correlation -0.7) - Up-and-In Call: 1.6094\n"
          ]
        }
      ],
      "source": [
        "import numpy as np\n",
        "import scipy.stats as ss\n",
        "import matplotlib.pyplot as plt\n",
        "\n",
        "# Parameters\n",
        "S0 = 95  # Initial stock price\n",
        "K = 95   # Strike price (ATM)\n",
        "barrier = 95\n",
        "r = 0.055  # Risk-free rate\n",
        "sigma = 0.35  # Volatility\n",
        "T = 3/12  # Time to maturity (3 months)\n",
        "n_simulations = 10000  # Monte Carlo simulations\n",
        "\n",
        "# Heston Model Parameters\n",
        "v0 = 0.032  # Initial variance\n",
        "kappa_v = 1.85  # Mean-reversion speed\n",
        "theta_v = 0.045  # Long-run variance\n",
        "rho_values = [-0.30, -0.70]  # Correlation levels\n",
        "\n",
        "# Function for Up-and-In Call Option Pricing with Heston Model\n",
        "def price_up_and_in_heston_mc(S0, K, r, sigma, T, v0, kappa_v, theta_v, rho, barrier, n_sim, option_type=\"call\"):\n",
        "    dt = T / 252\n",
        "    n_steps = int(T * 252)\n",
        "\n",
        "    S_paths = np.zeros((n_sim, n_steps))\n",
        "    v_paths = np.zeros((n_sim, n_steps))\n",
        "    S_paths[:, 0] = S0\n",
        "    v_paths[:, 0] = v0\n",
        "\n",
        "    for i in range(1, n_steps):\n",
        "        dW_S = np.random.randn(n_sim) * np.sqrt(dt)\n",
        "        dW_v = rho * dW_S + np.sqrt(1 - rho**2) * np.random.randn(n_sim) * np.sqrt(dt)\n",
        "\n",
        "        v_paths[:, i] = np.maximum(v_paths[:, i-1] + kappa_v * (theta_v - v_paths[:, i-1]) * dt + np.sqrt(v_paths[:, i-1]) * dW_v, 0)\n",
        "        S_paths[:, i] = S_paths[:, i-1] * np.exp((r - 0.5 * sigma**2) * dt + np.sqrt(v_paths[:, i-1]) * dW_S)\n",
        "\n",
        "    breached = np.any(S_paths >= barrier, axis=1)\n",
        "    ST = S_paths[:, -1]\n",
        "\n",
        "    if option_type == \"call\":\n",
        "        payoff = np.maximum(ST - K, 0) * breached  # Only activated if barrier is reached\n",
        "    else:\n",
        "        payoff = np.maximum(K - ST, 0) * breached\n",
        "\n",
        "    return np.exp(-r * T) * np.mean(payoff)\n",
        "\n",
        "# Compute Up-and-In Call Prices using Heston Model\n",
        "print(\"\\n===== Question 14: Up-and-In Call Pricing with Heston Model =====\\n\")\n",
        "barrier = 95  # Barrier Level\n",
        "strike = 95   # Strike Price\n",
        "up_and_in_heston_prices = {}\n",
        "\n",
        "for rho in rho_values:\n",
        "    up_and_in_heston_prices[rho] = price_up_and_in_heston_mc(S0, strike, r, sigma, T, v0, kappa_v, theta_v, rho, barrier, n_simulations, \"call\")\n",
        "    print(f\"Heston Model (Correlation {rho}) - Up-and-In Call: {up_and_in_heston_prices[rho]:.4f}\")\n"
      ]
    },
    {
      "cell_type": "markdown",
      "id": "acde7aff",
      "metadata": {
        "id": "acde7aff"
      },
      "source": [
        "# Task 15\n"
      ]
    },
    {
      "cell_type": "code",
      "execution_count": null,
      "id": "111181f0",
      "metadata": {
        "id": "111181f0",
        "outputId": "6a822030-d5ac-408c-aa5e-2a5548c6914d"
      },
      "outputs": [
        {
          "name": "stdout",
          "output_type": "stream",
          "text": [
            "\n",
            "===== Question 15: Down-and-In Put Pricing with Merton Model =====\n",
            "\n",
            "Merton Model (Jump Intensity 0.75) - Down-and-In Put: 3.0904\n",
            "Merton Model (Jump Intensity 0.25) - Down-and-In Put: 2.4263\n"
          ]
        }
      ],
      "source": [
        "import numpy as np\n",
        "import scipy.stats as ss\n",
        "import matplotlib.pyplot as plt\n",
        "\n",
        "# Parameters\n",
        "S0 = 65  # Initial stock price\n",
        "K = 65   # Strike price (ATM)\n",
        "barrier = 65\n",
        "\n",
        "r = 0.055  # Risk-free rate\n",
        "sigma = 0.35  # Volatility\n",
        "T = 3/12  # Time to maturity (3 months)\n",
        "n_simulations = 10000  # Monte Carlo simulations\n",
        "\n",
        "# Heston Model Parameters\n",
        "v0 = 0.032  # Initial variance\n",
        "kappa_v = 1.85  # Mean-reversion speed\n",
        "theta_v = 0.045  # Long-run variance\n",
        "rho_values = [-0.30, -0.70]  # Correlation levels\n",
        "\n",
        "# Merton Model Parameters\n",
        "mu_jump = -0.5  # Mean jump size\n",
        "sigma_jump = 0.22  # Jump volatility\n",
        "lam_values = [0.75, 0.25]  # Jump intensities\n",
        "\n",
        "# Function for Down-and-In Put Option Pricing with Merton Model\n",
        "def price_down_and_in_merton_mc(S0, K, r, sigma, T, lam, mu_jump, sigma_jump, barrier, n_sim, option_type=\"put\"):\n",
        "    dt = T / 252\n",
        "    n_steps = int(T * 252)\n",
        "\n",
        "    S_paths = np.zeros((n_sim, n_steps))\n",
        "    S_paths[:, 0] = S0\n",
        "\n",
        "    for i in range(1, n_steps):\n",
        "        dW = np.random.randn(n_sim) * np.sqrt(dt)\n",
        "        J = np.random.normal(mu_jump, sigma_jump, n_sim) * (np.random.poisson(lam * dt, n_sim) > 0)\n",
        "        S_paths[:, i] = S_paths[:, i-1] * np.exp((r - 0.5 * sigma**2) * dt + sigma * dW + J)\n",
        "\n",
        "    breached = np.any(S_paths <= barrier, axis=1)\n",
        "    ST = S_paths[:, -1]\n",
        "\n",
        "    if option_type == \"put\":\n",
        "        payoff = np.maximum(K - ST, 0) * breached  # Only activated if barrier is reached\n",
        "    else:\n",
        "        payoff = np.maximum(ST - K, 0) * breached\n",
        "\n",
        "    return np.exp(-r * T) * np.mean(payoff)\n",
        "\n",
        "# Compute Down-and-In Put Prices using Merton Model\n",
        "print(\"\\n===== Question 15: Down-and-In Put Pricing with Merton Model =====\\n\")\n",
        "barrier = 65  # Barrier Level\n",
        "strike = 65   # Strike Price\n",
        "down_and_in_merton_prices = {}\n",
        "\n",
        "for lam in lam_values:\n",
        "    down_and_in_merton_prices[lam] = price_down_and_in_merton_mc(S0, strike, r, sigma, T, lam, mu_jump, sigma_jump, barrier, n_simulations, \"put\")\n",
        "    print(f\"Merton Model (Jump Intensity {lam}) - Down-and-In Put: {down_and_in_merton_prices[lam]:.4f}\")\n"
      ]
    },
    {
      "cell_type": "code",
      "execution_count": null,
      "id": "4246a622",
      "metadata": {
        "id": "4246a622"
      },
      "outputs": [],
      "source": []
    }
  ],
  "metadata": {
    "kernelspec": {
      "display_name": "Python 3 (ipykernel)",
      "language": "python",
      "name": "python3"
    },
    "language_info": {
      "codemirror_mode": {
        "name": "ipython",
        "version": 3
      },
      "file_extension": ".py",
      "mimetype": "text/x-python",
      "name": "python",
      "nbconvert_exporter": "python",
      "pygments_lexer": "ipython3",
      "version": "3.9.13"
    },
    "colab": {
      "provenance": [],
      "include_colab_link": true
    }
  },
  "nbformat": 4,
  "nbformat_minor": 5
}