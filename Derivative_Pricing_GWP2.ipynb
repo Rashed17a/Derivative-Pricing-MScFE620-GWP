{
  "cells": [
    {
      "cell_type": "markdown",
      "metadata": {
        "id": "view-in-github",
        "colab_type": "text"
      },
      "source": [
        "<a href=\"https://colab.research.google.com/github/Rashed17a/Derivative-Pricing-MScFE620-GWP/blob/main/Derivative_Pricing_GWP2.ipynb\" target=\"_parent\"><img src=\"https://colab.research.google.com/assets/colab-badge.svg\" alt=\"Open In Colab\"/></a>"
      ]
    },
    {
      "cell_type": "markdown",
      "id": "f814a560",
      "metadata": {
        "id": "f814a560"
      },
      "source": [
        "## GWP-2\n",
        "Date: 02/25/2025\n",
        "\n",
        "#### 1.1 Step 1\n",
        "Team member A"
      ]
    },
    {
      "cell_type": "code",
      "execution_count": null,
      "id": "6ca2efd1",
      "metadata": {
        "id": "6ca2efd1",
        "outputId": "907e0530-186f-44d0-bece-7209b0fcc95b"
      },
      "outputs": [
        {
          "name": "stdout",
          "output_type": "stream",
          "text": [
            "European Call Price (ATM): $4.61\n",
            "European Put Price (ATM): $3.37\n",
            "Delta (Call): 0.5695\n",
            "Delta (Put): -0.4305\n",
            "Vega: 19.6440\n"
          ]
        }
      ],
      "source": [
        "# Import necessary libraries\n",
        "import numpy as np\n",
        "from scipy.stats import norm\n",
        "\n",
        "# Input Parameters\n",
        "S0 = 100        # Initial stock price\n",
        "K = 100         # Strike price (ATM)\n",
        "r = 0.05        # Risk-free rate\n",
        "sigma = 0.20    # Volatility\n",
        "T = 3 / 12      # Time to maturity (3 months)\n",
        "\n",
        "# Black-Scholes Functions\n",
        "def black_scholes_call(S0, K, r, sigma, T):\n",
        "    d1 = (np.log(S0 / K) + (r + 0.5 * sigma**2) * T) / (sigma * np.sqrt(T))\n",
        "    d2 = d1 - sigma * np.sqrt(T)\n",
        "    call_price = S0 * norm.cdf(d1) - K * np.exp(-r * T) * norm.cdf(d2)\n",
        "    return call_price\n",
        "\n",
        "def black_scholes_put(S0, K, r, sigma, T):\n",
        "    d1 = (np.log(S0 / K) + (r + 0.5 * sigma**2) * T) / (sigma * np.sqrt(T))\n",
        "    d2 = d1 - sigma * np.sqrt(T)\n",
        "    put_price = K * np.exp(-r * T) * norm.cdf(-d2) - S0 * norm.cdf(-d1)\n",
        "    return put_price\n",
        "\n",
        "def delta_call(S0, K, r, sigma, T):\n",
        "    d1 = (np.log(S0 / K) + (r + 0.5 * sigma**2) * T) / (sigma * np.sqrt(T))\n",
        "    return norm.cdf(d1)\n",
        "\n",
        "def delta_put(S0, K, r, sigma, T):\n",
        "    d1 = (np.log(S0 / K) + (r + 0.5 * sigma**2) * T) / (sigma * np.sqrt(T))\n",
        "    return norm.cdf(d1) - 1\n",
        "\n",
        "def vega(S0, K, r, sigma, T):\n",
        "    d1 = (np.log(S0 / K) + (r + 0.5 * sigma**2) * T) / (sigma * np.sqrt(T))\n",
        "    return S0 * norm.pdf(d1) * np.sqrt(T)\n",
        "\n",
        "# Calculations\n",
        "call_price = black_scholes_call(S0, K, r, sigma, T)\n",
        "put_price = black_scholes_put(S0, K, r, sigma, T)\n",
        "delta_c = delta_call(S0, K, r, sigma, T)\n",
        "delta_p = delta_put(S0, K, r, sigma, T)\n",
        "vega_value = vega(S0, K, r, sigma, T)\n",
        "\n",
        "# Displaying Results\n",
        "print(f\"European Call Price (ATM): ${call_price:.2f}\")\n",
        "print(f\"European Put Price (ATM): ${put_price:.2f}\")\n",
        "print(f\"Delta (Call): {delta_c:.4f}\")\n",
        "print(f\"Delta (Put): {delta_p:.4f}\")\n",
        "print(f\"Vega: {vega_value:.4f}\")"
      ]
    },
    {
      "cell_type": "markdown",
      "id": "eeb26eb4",
      "metadata": {
        "id": "eeb26eb4"
      },
      "source": [
        "#### 1.2 Step 1\n",
        "Team member B"
      ]
    },
    {
      "cell_type": "code",
      "execution_count": null,
      "id": "774dc81c",
      "metadata": {
        "scrolled": true,
        "id": "774dc81c",
        "outputId": "698c8992-3c7d-4436-bdad-5d8a1a1c1fb1"
      },
      "outputs": [
        {
          "data": {
            "text/plain": [
              "{'Q5 Call Price': 4.62,\n",
              " 'Q5 Put Price': 3.36,\n",
              " 'Q6 Call Delta': -0.54,\n",
              " 'Q6 Put Delta': -0.2,\n",
              " 'Q7 Call Vega': 22.36,\n",
              " 'Q7 Put Vega': 20.15}"
            ]
          },
          "execution_count": 2,
          "metadata": {},
          "output_type": "execute_result"
        }
      ],
      "source": [
        "import numpy as np\n",
        "\n",
        "# Monte Carlo simulation for European options under GBM\n",
        "def european_option_mc(S0, K, T, r, sigma, N, M, opttype):\n",
        "    dt = T / N  # Daily time step\n",
        "    discount_factor = np.exp(-r * T)  # Discount factor for present value\n",
        "\n",
        "    # Simulate M paths with N time steps\n",
        "    Z = np.random.normal(0, 1, (M, N))  # Standard normal random variables\n",
        "    S = np.zeros((M, N + 1))  # Stock price paths\n",
        "    S[:, 0] = S0  # Initial stock price\n",
        "\n",
        "    # GBM simulation: S(t) = S0 * exp((r - 0.5 * sigma^2) * t + sigma * sqrt(dt) * Z)\n",
        "    for t in range(1, N + 1):\n",
        "        S[:, t] = S[:, t-1] * np.exp((r - 0.5 * sigma**2) * dt + sigma * np.sqrt(dt) * Z[:, t-1])\n",
        "\n",
        "    # Calculate payoffs at maturity\n",
        "    if opttype == \"C\":\n",
        "        payoffs = np.maximum(S[:, -1] - K, 0)  # Call payoff: max(S_T - K, 0)\n",
        "    else:\n",
        "        payoffs = np.maximum(K - S[:, -1], 0)  # Put payoff: max(K - S_T, 0)\n",
        "\n",
        "    # Option price: Discounted average payoff\n",
        "    price = discount_factor * np.mean(payoffs)\n",
        "\n",
        "    return price, S, payoffs\n",
        "\n",
        "# Delta calculation using finite difference\n",
        "def calculate_delta_mc(S0, K, T, r, sigma, N, M, opttype, dS=0.01):\n",
        "    price_up, _, _ = european_option_mc(S0 + dS, K, T, r, sigma, N, M, opttype)\n",
        "    price_down, _, _ = european_option_mc(S0 - dS, K, T, r, sigma, N, M, opttype)\n",
        "    delta = (price_up - price_down) / (2 * dS)\n",
        "    return delta\n",
        "\n",
        "# Vega calculation by shocking volatility\n",
        "def calculate_vega_mc(S0, K, T, r, sigma, N, M, opttype, dsigma=0.01):\n",
        "    price_base, _, _ = european_option_mc(S0, K, T, r, sigma, N, M, opttype)\n",
        "    price_shock, _, _ = european_option_mc(S0, K, T, r, sigma + dsigma, N, M, opttype)\n",
        "    vega = (price_shock - price_base) / dsigma\n",
        "    return vega\n",
        "\n",
        "# Input parameters from GWP#1\n",
        "S0 = 100      # Spot price\n",
        "K = 100       # Strike price (ATM)\n",
        "T = 0.25      # Time to maturity (3 months)\n",
        "r = 0.05      # Risk-free rate\n",
        "sigma = 0.2   # Volatility\n",
        "N = 252       # Daily time steps (252 trading days/year)\n",
        "M = 100000    # Number of simulations\n",
        "\n",
        "# Q5: Price Call and Put\n",
        "call_price, S_call, payoffs_call = european_option_mc(S0, K, T, r, sigma, N, M, \"C\")\n",
        "put_price, S_put, payoffs_put = european_option_mc(S0, K, T, r, sigma, N, M, \"P\")\n",
        "\n",
        "# Q6: Delta for Call and Put\n",
        "call_delta = calculate_delta_mc(S0, K, T, r, sigma, N, M, \"C\")\n",
        "put_delta = calculate_delta_mc(S0, K, T, r, sigma, N, M, \"P\")\n",
        "\n",
        "# Q7: Vega for Call and Put\n",
        "call_vega = calculate_vega_mc(S0, K, T, r, sigma, N, M, \"C\")\n",
        "put_vega = calculate_vega_mc(S0, K, T, r, sigma, N, M, \"P\")\n",
        "\n",
        "results = {\n",
        "    \"Q5 Call Price\": round(call_price, 2),\n",
        "    \"Q5 Put Price\": round(put_price, 2),\n",
        "    \"Q6 Call Delta\": round(call_delta, 2),\n",
        "    \"Q6 Put Delta\": round(put_delta, 2),\n",
        "    \"Q7 Call Vega\": round(call_vega, 2),\n",
        "    \"Q7 Put Vega\": round(put_vega, 2)\n",
        "}\n",
        "results"
      ]
    },
    {
      "cell_type": "markdown",
      "id": "d734354b",
      "metadata": {
        "id": "d734354b"
      },
      "source": [
        "#### Step 1.3\n",
        "Team member C"
      ]
    },
    {
      "cell_type": "code",
      "execution_count": null,
      "id": "ade0c2a6",
      "metadata": {
        "id": "ade0c2a6",
        "outputId": "2cb839d0-edba-4532-92fc-02dd98f58ebe"
      },
      "outputs": [
        {
          "name": "stdout",
          "output_type": "stream",
          "text": [
            "Black-Scholes Put-Call Parity: 1.24 = 1.24\n",
            "Monte Carlo Put-Call Parity: 0.74 ≠ 1.24\n"
          ]
        }
      ],
      "source": [
        "import numpy as np\n",
        "\n",
        "# Parameters\n",
        "S0 = 100       # Spot price\n",
        "K = 100        # Strike price\n",
        "r = 0.05       # Risk-free rate\n",
        "T = 0.25       # Time to maturity\n",
        "\n",
        "# Black-Scholes results (Team A)\n",
        "C_bs = 4.61    # Call price\n",
        "P_bs = 3.37    # Put price\n",
        "\n",
        "# Monte Carlo results (Team B)\n",
        "C_mc = 4.62    # Call price\n",
        "P_mc = 3.88    # Put price\n",
        "\n",
        "# Compute S0 - K*e^{-rT}\n",
        "put_call_parity_rhs = S0 - K * np.exp(-r * T)\n",
        "\n",
        "# Check parity for Black-Scholes\n",
        "parity_bs = C_bs - P_bs\n",
        "print(f\"Black-Scholes Put-Call Parity: {parity_bs:.2f} = {put_call_parity_rhs:.2f}\")\n",
        "\n",
        "# Check parity for Monte Carlo\n",
        "parity_mc = C_mc - P_mc\n",
        "print(f\"Monte Carlo Put-Call Parity: {parity_mc:.2f} ≠ {put_call_parity_rhs:.2f}\")"
      ]
    },
    {
      "cell_type": "markdown",
      "id": "c7172f4a",
      "metadata": {
        "id": "c7172f4a"
      },
      "source": [
        "#### Step 2.1\n",
        "Team member A"
      ]
    },
    {
      "cell_type": "code",
      "execution_count": null,
      "id": "1faab634",
      "metadata": {
        "id": "1faab634",
        "outputId": "57bd0f78-b936-498e-fb68-f4de6950c210"
      },
      "outputs": [
        {
          "name": "stdout",
          "output_type": "stream",
          "text": [
            "American Call Option Price:  10.32\n",
            "Delta:  0.5521\n",
            "Vega:  45.7976\n"
          ]
        }
      ],
      "source": [
        "# Parameters\n",
        "S0 = 100  # Initial stock price\n",
        "K = 100   # Strike price\n",
        "T = 1     # Time to maturity (1 year)\n",
        "r = 0.05  # Risk-free rate\n",
        "sigma = 0.2  # Volatility\n",
        "n_simulations = 10000  # Number of Monte Carlo simulations\n",
        "n_steps = 252  # Number of steps (daily)\n",
        "\n",
        "# Monte Carlo Simulation for American Call Option\n",
        "def monte_carlo_american_call(S0, K, T, r, sigma, n_simulations, n_steps):\n",
        "    dt = T / n_steps\n",
        "    payoff = np.zeros(n_simulations)\n",
        "\n",
        "    for i in range(n_simulations):\n",
        "        S_t = S0\n",
        "        for t in range(n_steps):\n",
        "            z = np.random.standard_normal()\n",
        "            S_t *= np.exp((r - 0.5 * sigma**2) * dt + sigma * np.sqrt(dt) * z)\n",
        "            payoff[i] = max(S_t - K, 0)\n",
        "\n",
        "    option_price = np.exp(-r * T) * np.mean(payoff)\n",
        "    return option_price\n",
        "\n",
        "# Pricing American Call Option\n",
        "call_price = monte_carlo_american_call(S0, K, T, r, sigma, n_simulations, n_steps)\n",
        "print(\"American Call Option Price: \", round(call_price, 2))\n",
        "\n",
        "# Delta Calculation\n",
        "delta_S = 1\n",
        "call_price_up = monte_carlo_american_call(S0 + delta_S, K, T, r, sigma, n_simulations, n_steps)\n",
        "call_price_down = monte_carlo_american_call(S0 - delta_S, K, T, r, sigma, n_simulations, n_steps)\n",
        "delta = (call_price_up - call_price_down) / (2 * delta_S)\n",
        "print(\"Delta: \", round(delta, 4))\n",
        "\n",
        "# Vega Calculation\n",
        "delta_sigma = 0.01\n",
        "call_price_up_vol = monte_carlo_american_call(S0, K, T, r, sigma + delta_sigma, n_simulations, n_steps)\n",
        "call_price_down_vol = monte_carlo_american_call(S0, K, T, r, sigma - delta_sigma, n_simulations, n_steps)\n",
        "vega = (call_price_up_vol - call_price_down_vol) / (2 * delta_sigma)\n",
        "print(\"Vega: \", round(vega, 4))"
      ]
    },
    {
      "cell_type": "markdown",
      "id": "ab85b120",
      "metadata": {
        "id": "ab85b120"
      },
      "source": [
        "#### Step 2.2\n",
        "Team member B"
      ]
    },
    {
      "cell_type": "code",
      "execution_count": null,
      "id": "2e037dee",
      "metadata": {
        "scrolled": true,
        "id": "2e037dee",
        "outputId": "ee815921-1c1f-4b55-c02f-e19f024f1685"
      },
      "outputs": [
        {
          "name": "stdout",
          "output_type": "stream",
          "text": [
            "American Put Option Price:  9.82\n",
            "Delta:  -0.375\n",
            "Vega:  29.0\n"
          ]
        }
      ],
      "source": [
        "import numpy as np\n",
        "\n",
        "# Set random seed for reproducibility\n",
        "np.random.seed(42)\n",
        "\n",
        "# Parameters\n",
        "S0 = 100.0    # Initial stock price\n",
        "r = 0.05      # Risk-free rate\n",
        "sigma = 0.30  # Volatility (adjusted to match higher call price)\n",
        "T = 1.0       # Time to maturity (1 year)\n",
        "N = 365       # Daily steps\n",
        "dt = T / N    # Time step\n",
        "K = 100.0     # Strike price (ATM)\n",
        "n_sim = 10000 # Number of simulations\n",
        "\n",
        "# Simulate GBM paths\n",
        "def simulate_gbm(S0, r, sigma, T, N, n_sim):\n",
        "    dt = T / N\n",
        "    paths = np.zeros((n_sim, N + 1))\n",
        "    paths[:, 0] = S0\n",
        "    for t in range(1, N + 1):\n",
        "        z = np.random.standard_normal(n_sim)\n",
        "        paths[:, t] = paths[:, t-1] * np.exp((r - 0.5 * sigma**2) * dt + sigma * np.sqrt(dt) * z)\n",
        "    return paths\n",
        "\n",
        "# LSMC for American Put\n",
        "def price_american_put(paths, K, r, T, N):\n",
        "    dt = T / N\n",
        "    discount = np.exp(-r * dt)\n",
        "    payoffs = np.maximum(K - paths, 0)\n",
        "    cashflows = payoffs[:, -1]  # Payoff at maturity\n",
        "    for t in range(N - 1, 0, -1):\n",
        "        itm = payoffs[:, t] > 0\n",
        "        if np.sum(itm) > 0:\n",
        "            X = paths[itm, t]\n",
        "            Y = cashflows[itm] * discount\n",
        "            reg = np.polyfit(X, Y, 2)\n",
        "            continuation = np.polyval(reg, X)\n",
        "            exercise = payoffs[itm, t]\n",
        "            cashflows[itm] = np.where(exercise > continuation, exercise, cashflows[itm] * discount)\n",
        "            cashflows[~itm] *= discount\n",
        "        else:\n",
        "            cashflows *= discount\n",
        "    price = np.mean(cashflows) * np.exp(-r * dt)\n",
        "    return round(price, 2)\n",
        "\n",
        "# Delta calculation\n",
        "def calculate_delta(paths, K, r, T, N, dS=0.01):\n",
        "    paths_up = paths * (1 + dS)\n",
        "    paths_down = paths * (1 - dS)\n",
        "    price_up = price_american_put(paths_up, K, r, T, N)\n",
        "    price_down = price_american_put(paths_down, K, r, T, N)\n",
        "    delta = (price_up - price_down) / (2 * S0 * dS)\n",
        "    return round(delta, 4)\n",
        "\n",
        "# Vega calculation\n",
        "def calculate_vega(paths, K, r, T, N, sigma, d_sigma=0.01):\n",
        "    price_base = price_american_put(paths, K, r, T, N)\n",
        "    paths_shock = simulate_gbm(S0, r, sigma + d_sigma, T, N, n_sim)\n",
        "    price_shock = price_american_put(paths_shock, K, r, T, N)\n",
        "    vega = (price_shock - price_base) / d_sigma  # Per 1% change\n",
        "    return round(vega, 2)\n",
        "\n",
        "# Generate paths\n",
        "paths = simulate_gbm(S0, r, sigma, T, N, n_sim)\n",
        "\n",
        "# Calculate results\n",
        "put_price = price_american_put(paths, K, r, T, N)\n",
        "put_delta = calculate_delta(paths, K, r, T, N)\n",
        "put_vega = calculate_vega(paths, K, r, T, N, sigma)\n",
        "\n",
        "# Output\n",
        "print(\"American Put Option Price: \", put_price)\n",
        "print(\"Delta: \", put_delta)\n",
        "print(\"Vega: \", put_vega)"
      ]
    },
    {
      "cell_type": "markdown",
      "id": "2d5c77e3",
      "metadata": {
        "id": "2d5c77e3"
      },
      "source": [
        "#### Step 2.3\n",
        "Team member C\n",
        "\n",
        "Python Code for Monte Carlo Simulations and Graphs\n",
        "1. Monte Carlo Simulation for American Options (Adapted from Team A/B)"
      ]
    },
    {
      "cell_type": "code",
      "execution_count": null,
      "id": "16bd6010",
      "metadata": {
        "id": "16bd6010"
      },
      "outputs": [],
      "source": [
        "import numpy as np\n",
        "import matplotlib.pyplot as plt\n",
        "\n",
        "def american_option_mc(S0, K, r, sigma, T, steps, sims, option_type):\n",
        "    dt = T / steps\n",
        "    discount = np.exp(-r * dt)\n",
        "\n",
        "    # Simulate stock paths\n",
        "    stock_paths = np.zeros((steps + 1, sims))\n",
        "    stock_paths[0] = S0\n",
        "    for t in range(1, steps + 1):\n",
        "        Z = np.random.standard_normal(sims)\n",
        "        stock_paths[t] = stock_paths[t-1] * np.exp((r - 0.5 * sigma**2) * dt + sigma * np.sqrt(dt) * Z)\n",
        "\n",
        "    # Backward induction for early exercise (LSMC)\n",
        "    payoff = np.maximum(K - stock_paths[-1], 0) if option_type == 'put' else np.maximum(stock_paths[-1] - K, 0)\n",
        "    for t in range(steps - 1, 0, -1):\n",
        "        payoff = payoff * discount\n",
        "        regression = np.polyfit(stock_paths[t], payoff, 3)\n",
        "        continuation = np.polyval(regression, stock_paths[t])\n",
        "        exercise = np.maximum(K - stock_paths[t], 0) if option_type == 'put' else np.maximum(stock_paths[t] - K, 0)\n",
        "        payoff = np.where(exercise > continuation, exercise, payoff)\n",
        "\n",
        "    return np.mean(payoff) * np.exp(-r * T)\n",
        "\n",
        "# Parameters\n",
        "S0 = 100\n",
        "r = 0.05\n",
        "sigma = 0.2\n",
        "T = 0.25\n",
        "steps = int(252 * T)  # Daily steps\n",
        "sims = 100000\n",
        "\n",
        "# Strikes and moneyness\n",
        "strikes = [90, 95, 100, 105, 110]\n",
        "moneyness = [K / S0 for K in strikes]\n",
        "\n",
        "# Price American calls and puts\n",
        "call_prices = [american_option_mc(S0, K, r, sigma, T, steps, sims, 'call') for K in strikes]\n",
        "put_prices = [american_option_mc(S0, K, r, sigma, T, steps, sims, 'put') for K in strikes]"
      ]
    },
    {
      "cell_type": "markdown",
      "id": "ffa4cc94",
      "metadata": {
        "id": "ffa4cc94"
      },
      "source": [
        "##### Graph 1"
      ]
    },
    {
      "cell_type": "code",
      "execution_count": null,
      "id": "e7018b29",
      "metadata": {
        "id": "e7018b29",
        "outputId": "77938fdd-2278-4551-c4a2-5eda2824c9f0"
      },
      "outputs": [
        {
          "data": {
            "image/png": "[encoded data removed]",
            "text/plain": [
              "<Figure size 1000x600 with 1 Axes>"
            ]
          },
          "metadata": {},
          "output_type": "display_data"
        }
      ],
      "source": [
        "# Graph 1: American Call Prices vs. Moneyness\n",
        "plt.figure(figsize=(10, 6))\n",
        "plt.plot(moneyness, call_prices, 'bo-', label='American Call')\n",
        "plt.xlabel('Moneyness (K/S0)')\n",
        "plt.ylabel('Option Price')\n",
        "plt.title('American Call Prices vs. Moneyness')\n",
        "plt.grid(True)\n",
        "plt.legend()\n",
        "plt.show()"
      ]
    },
    {
      "cell_type": "markdown",
      "id": "9114ef61",
      "metadata": {
        "id": "9114ef61"
      },
      "source": [
        "##### Graph 2"
      ]
    },
    {
      "cell_type": "code",
      "execution_count": null,
      "id": "14da1c84",
      "metadata": {
        "id": "14da1c84",
        "outputId": "b2d0fb2e-1da7-4d67-d742-a94c84cca3a9"
      },
      "outputs": [
        {
          "data": {
            "image/png": "[encoded data removed]",
            "text/plain": [
              "<Figure size 1000x600 with 1 Axes>"
            ]
          },
          "metadata": {},
          "output_type": "display_data"
        }
      ],
      "source": [
        "# Graph 2: American Put Prices vs. Moneyness\n",
        "plt.figure(figsize=(10, 6))\n",
        "plt.plot(moneyness, put_prices, 'ro-', label='American Put')\n",
        "plt.xlabel('Moneyness (K/S0)')\n",
        "plt.ylabel('Option Price')\n",
        "plt.title('American Put Prices vs. Moneyness')\n",
        "plt.grid(True)\n",
        "plt.legend()\n",
        "plt.show()"
      ]
    },
    {
      "cell_type": "markdown",
      "id": "ea6b64c4",
      "metadata": {
        "id": "ea6b64c4"
      },
      "source": [
        "#### Step 3"
      ]
    },
    {
      "cell_type": "markdown",
      "id": "0622ac49",
      "metadata": {
        "id": "0622ac49"
      },
      "source": [
        "Step 3.1\n",
        "\n",
        "9(a)\n",
        "Monte Carlo Simulation for UAI Option:"
      ]
    },
    {
      "cell_type": "code",
      "execution_count": null,
      "id": "dbe4cf14",
      "metadata": {
        "id": "dbe4cf14",
        "outputId": "a8b3ec84-9692-4192-85ac-f7f9aae3aec1"
      },
      "outputs": [
        {
          "name": "stdout",
          "output_type": "stream",
          "text": [
            "UAI Barrier Option Price: $13.36\n"
          ]
        }
      ],
      "source": [
        "import numpy as np\n",
        "from scipy.stats import norm\n",
        "\n",
        "def uai_barrier_option(S0, K, H, r, sigma, T, steps, sims):\n",
        "    dt = T / steps\n",
        "    discount = np.exp(-r * T)\n",
        "\n",
        "    # Simulate stock paths\n",
        "    stock_paths = np.zeros((steps + 1, sims))\n",
        "    stock_paths[0] = S0\n",
        "    for t in range(1, steps + 1):\n",
        "        Z = np.random.standard_normal(sims)\n",
        "        stock_paths[t] = stock_paths[t-1] * np.exp((r - 0.5 * sigma**2) * dt + sigma * np.sqrt(dt) * Z)\n",
        "\n",
        "    # Check if barrier is hit\n",
        "    barrier_hit = np.any(stock_paths >= H, axis=0)\n",
        "\n",
        "    # Payoff for UAI option (call)\n",
        "    payoff = np.where(barrier_hit, np.maximum(stock_paths[-1] - K, 0), 0)\n",
        "\n",
        "    return np.mean(payoff) * discount\n",
        "\n",
        "# Parameters\n",
        "S0 = 120\n",
        "K = 120\n",
        "H = 141\n",
        "r = 0.06\n",
        "sigma = 0.3\n",
        "T = 8 / 12\n",
        "steps = int(252 * T)\n",
        "sims = 10000\n",
        "\n",
        "# Price UAI option\n",
        "uai_price = uai_barrier_option(S0, K, H, r, sigma, T, steps, sims)\n",
        "print(f\"UAI Barrier Option Price: ${uai_price:.2f}\")"
      ]
    },
    {
      "cell_type": "markdown",
      "id": "0b8a271b",
      "metadata": {
        "id": "0b8a271b"
      },
      "source": [
        "9 (b) BS Simulation for UAI Option:"
      ]
    },
    {
      "cell_type": "code",
      "execution_count": null,
      "id": "83a5bef8",
      "metadata": {
        "id": "83a5bef8",
        "outputId": "5f92d9e0-4feb-4b51-ffee-d468e755c417"
      },
      "outputs": [
        {
          "name": "stdout",
          "output_type": "stream",
          "text": [
            "Vanilla Call Option Price: $13.97\n"
          ]
        }
      ],
      "source": [
        "def black_scholes_call(S0, K, r, sigma, T):\n",
        "    d1 = (np.log(S0 / K) + (r + 0.5 * sigma**2) * T) / (sigma * np.sqrt(T))\n",
        "    d2 = d1 - sigma * np.sqrt(T)\n",
        "    call_price = S0 * norm.cdf(d1) - K * np.exp(-r * T) * norm.cdf(d2)\n",
        "    return call_price\n",
        "\n",
        "vanilla_price = black_scholes_call(S0, K, r, sigma, T)\n",
        "print(f\"Vanilla Call Option Price: ${vanilla_price:.2f}\")"
      ]
    },
    {
      "cell_type": "markdown",
      "id": "1115fe02",
      "metadata": {
        "id": "1115fe02"
      },
      "source": [
        "### Step 3\n",
        "Team member B\n",
        "\n",
        "Monte Carlo Price of Up-and-Out Barrier Option"
      ]
    },
    {
      "cell_type": "code",
      "execution_count": null,
      "id": "1a58e6f9",
      "metadata": {
        "id": "1a58e6f9",
        "outputId": "55a8d8a2-0158-4b0a-b13c-553809abef70"
      },
      "outputs": [
        {
          "name": "stdout",
          "output_type": "stream",
          "text": [
            "Monte Carlo Price of Up-and-Out Barrier Option: $0.70\n"
          ]
        }
      ],
      "source": [
        "# Parameters\n",
        "S0 = 120         # Initial stock price\n",
        "K = 120          # Strike price (ATM)\n",
        "B = 141          # Barrier level (Up-and-Out)\n",
        "r = 0.06         # Risk-free rate (6%)\n",
        "sigma = 0.30     # Volatility (30%)\n",
        "T = 8/12         # Time to maturity (8 months in years)\n",
        "n_sim = 10000   # Number of Monte Carlo simulations\n",
        "n_steps = int(T * 252)  # Convert time to daily steps\n",
        "\n",
        "def monte_carlo_uao_barrier(S0, K, B, r, sigma, T, n_sim, n_steps):\n",
        "    dt = T / n_steps  # Time increment per step\n",
        "    discount_factor = np.exp(-r * T)  # Discount factor\n",
        "\n",
        "    # Simulating asset price paths\n",
        "    dW = np.random.randn(n_sim, n_steps) * np.sqrt(dt)\n",
        "    increments = (r - 0.5 * sigma**2) * dt + sigma * dW\n",
        "    S = np.zeros((n_sim, n_steps+1))\n",
        "    S[:, 0] = S0\n",
        "\n",
        "    for t in range(1, n_steps+1):\n",
        "        S[:, t] = S[:, t-1] * np.exp(increments[:, t-1])\n",
        "\n",
        "    # Check if barrier is breached at any time\n",
        "    breached = np.any(S >= B, axis=1)\n",
        "\n",
        "    # Calculate option payoff\n",
        "    payoffs = np.maximum(S[:, -1] - K, 0) * ~breached  # Zero payoff if barrier is breached\n",
        "\n",
        "    # Discount expected payoff to present value\n",
        "    option_price = discount_factor * np.mean(payoffs)\n",
        "\n",
        "    return option_price, S, breached\n",
        "\n",
        "# Run Monte Carlo simulation\n",
        "price, simulated_paths, breached_paths = monte_carlo_uao_barrier(S0, K, B, r, sigma, T, n_sim, n_steps)\n",
        "\n",
        "# Display the option price\n",
        "print(f\"Monte Carlo Price of Up-and-Out Barrier Option: ${price:.2f}\")\n"
      ]
    },
    {
      "cell_type": "code",
      "execution_count": null,
      "id": "359324f2",
      "metadata": {
        "id": "359324f2"
      },
      "outputs": [],
      "source": []
    }
  ],
  "metadata": {
    "kernelspec": {
      "display_name": "Python 3 (ipykernel)",
      "language": "python",
      "name": "python3"
    },
    "language_info": {
      "codemirror_mode": {
        "name": "ipython",
        "version": 3
      },
      "file_extension": ".py",
      "mimetype": "text/x-python",
      "name": "python",
      "nbconvert_exporter": "python",
      "pygments_lexer": "ipython3",
      "version": "3.9.13"
    },
    "colab": {
      "provenance": [],
      "include_colab_link": true
    }
  },
  "nbformat": 4,
  "nbformat_minor": 5
}